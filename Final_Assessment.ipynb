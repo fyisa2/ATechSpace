{
  "nbformat": 4,
  "nbformat_minor": 0,
  "metadata": {
    "colab": {
      "name": "Final_Assessment.ipynb",
      "provenance": [],
      "collapsed_sections": [],
      "include_colab_link": true
    },
    "kernelspec": {
      "name": "python3",
      "display_name": "Python 3"
    },
    "language_info": {
      "name": "python"
    }
  },
  "cells": [
    {
      "cell_type": "markdown",
      "metadata": {
        "id": "view-in-github",
        "colab_type": "text"
      },
      "source": [
        "<a href=\"https://colab.research.google.com/github/fyisa2/ATechSpace/blob/main/Final_Assessment.ipynb\" target=\"_parent\"><img src=\"https://colab.research.google.com/assets/colab-badge.svg\" alt=\"Open In Colab\"/></a>"
      ]
    },
    {
      "cell_type": "markdown",
      "metadata": {
        "id": "syFOu-XdFcf0"
      },
      "source": [
        "##**Project**"
      ]
    },
    {
      "cell_type": "markdown",
      "metadata": {
        "id": "EDa7V9Q-F2-T"
      },
      "source": [
        "For this final assessment, we would be exploring this data. We would be working with data to predict the risk tag based on a person's information.\n"
      ]
    },
    {
      "cell_type": "markdown",
      "metadata": {
        "id": "jCn2CB1gNkFK"
      },
      "source": [
        "##Importing Libraries"
      ]
    },
    {
      "cell_type": "markdown",
      "metadata": {
        "id": "AOZ6DWStNrUF"
      },
      "source": [
        "**import the usual libraries for pandas and plotting. You can import sklearn later.**"
      ]
    },
    {
      "cell_type": "code",
      "metadata": {
        "id": "3UggR-yTEGL8",
        "colab": {
          "base_uri": "https://localhost:8080/"
        },
        "outputId": "39a3aca2-3def-4b1d-a5c3-e9b0f8a87fa6"
      },
      "source": [
        "'''Import the important libraries here'''\n",
        "import pandas as pd\n",
        "import numpy as np\n",
        "from matplotlib import pyplot as plt\n",
        "#import matplotib.pyplot as plt\n",
        "import seaborn as sns\n",
        "\n",
        "# Load the Drive helper and mount\n",
        "from google.colab import drive\n",
        "\n",
        "# This will prompt for authorization.\n",
        "drive.mount('/content/drive')"
      ],
      "execution_count": 2,
      "outputs": [
        {
          "output_type": "stream",
          "name": "stdout",
          "text": [
            "Mounted at /content/drive\n"
          ]
        }
      ]
    },
    {
      "cell_type": "markdown",
      "metadata": {
        "id": "L6yYxagtOBul"
      },
      "source": [
        "##Get the Data"
      ]
    },
    {
      "cell_type": "markdown",
      "metadata": {
        "id": "KSZMSzN-OHrG"
      },
      "source": [
        "**use pandas to read the dataframes**\n",
        "\n"
      ]
    },
    {
      "cell_type": "code",
      "metadata": {
        "id": "PiEurey_OA4K"
      },
      "source": [
        "'''Import the model'''\n",
        "mlmodel=pd.read_csv(\"/content/drive/My Drive/Data.csv\")\n"
      ],
      "execution_count": 3,
      "outputs": []
    },
    {
      "cell_type": "markdown",
      "metadata": {
        "id": "V30XPalbOe70"
      },
      "source": [
        "**Check out the data using info(), describe() and others to get a look at your data**"
      ]
    },
    {
      "cell_type": "code",
      "metadata": {
        "id": "8_WbVRsxO3wb",
        "colab": {
          "base_uri": "https://localhost:8080/",
          "height": 224
        },
        "outputId": "c22a9847-f09f-4351-dba6-d82e1f14e30a"
      },
      "source": [
        "mlmodel.head()"
      ],
      "execution_count": 4,
      "outputs": [
        {
          "output_type": "execute_result",
          "data": {
            "text/html": [
              "<div>\n",
              "<style scoped>\n",
              "    .dataframe tbody tr th:only-of-type {\n",
              "        vertical-align: middle;\n",
              "    }\n",
              "\n",
              "    .dataframe tbody tr th {\n",
              "        vertical-align: top;\n",
              "    }\n",
              "\n",
              "    .dataframe thead th {\n",
              "        text-align: right;\n",
              "    }\n",
              "</style>\n",
              "<table border=\"1\" class=\"dataframe\">\n",
              "  <thead>\n",
              "    <tr style=\"text-align: right;\">\n",
              "      <th></th>\n",
              "      <th>Id</th>\n",
              "      <th>Income</th>\n",
              "      <th>Age</th>\n",
              "      <th>Experience</th>\n",
              "      <th>Married/Single</th>\n",
              "      <th>House_Ownership</th>\n",
              "      <th>Car_Ownership</th>\n",
              "      <th>Profession</th>\n",
              "      <th>CITY</th>\n",
              "      <th>STATE</th>\n",
              "      <th>CURRENT_JOB_YRS</th>\n",
              "      <th>CURRENT_HOUSE_YRS</th>\n",
              "      <th>Risk_Flag</th>\n",
              "    </tr>\n",
              "  </thead>\n",
              "  <tbody>\n",
              "    <tr>\n",
              "      <th>0</th>\n",
              "      <td>1</td>\n",
              "      <td>1303834</td>\n",
              "      <td>23</td>\n",
              "      <td>3</td>\n",
              "      <td>single</td>\n",
              "      <td>rented</td>\n",
              "      <td>no</td>\n",
              "      <td>Mechanical_engineer</td>\n",
              "      <td>Rewa</td>\n",
              "      <td>Madhya_Pradesh</td>\n",
              "      <td>3</td>\n",
              "      <td>13</td>\n",
              "      <td>0</td>\n",
              "    </tr>\n",
              "    <tr>\n",
              "      <th>1</th>\n",
              "      <td>2</td>\n",
              "      <td>7574516</td>\n",
              "      <td>40</td>\n",
              "      <td>10</td>\n",
              "      <td>single</td>\n",
              "      <td>rented</td>\n",
              "      <td>no</td>\n",
              "      <td>Software_Developer</td>\n",
              "      <td>Parbhani</td>\n",
              "      <td>Maharashtra</td>\n",
              "      <td>9</td>\n",
              "      <td>13</td>\n",
              "      <td>0</td>\n",
              "    </tr>\n",
              "    <tr>\n",
              "      <th>2</th>\n",
              "      <td>3</td>\n",
              "      <td>3991815</td>\n",
              "      <td>66</td>\n",
              "      <td>4</td>\n",
              "      <td>married</td>\n",
              "      <td>rented</td>\n",
              "      <td>no</td>\n",
              "      <td>Technical_writer</td>\n",
              "      <td>Alappuzha</td>\n",
              "      <td>Kerala</td>\n",
              "      <td>4</td>\n",
              "      <td>10</td>\n",
              "      <td>0</td>\n",
              "    </tr>\n",
              "    <tr>\n",
              "      <th>3</th>\n",
              "      <td>4</td>\n",
              "      <td>6256451</td>\n",
              "      <td>41</td>\n",
              "      <td>2</td>\n",
              "      <td>single</td>\n",
              "      <td>rented</td>\n",
              "      <td>yes</td>\n",
              "      <td>Software_Developer</td>\n",
              "      <td>Bhubaneswar</td>\n",
              "      <td>Odisha</td>\n",
              "      <td>2</td>\n",
              "      <td>12</td>\n",
              "      <td>1</td>\n",
              "    </tr>\n",
              "    <tr>\n",
              "      <th>4</th>\n",
              "      <td>5</td>\n",
              "      <td>5768871</td>\n",
              "      <td>47</td>\n",
              "      <td>11</td>\n",
              "      <td>single</td>\n",
              "      <td>rented</td>\n",
              "      <td>no</td>\n",
              "      <td>Civil_servant</td>\n",
              "      <td>Tiruchirappalli[10]</td>\n",
              "      <td>Tamil_Nadu</td>\n",
              "      <td>3</td>\n",
              "      <td>14</td>\n",
              "      <td>1</td>\n",
              "    </tr>\n",
              "  </tbody>\n",
              "</table>\n",
              "</div>"
            ],
            "text/plain": [
              "   Id   Income  Age  ...  CURRENT_JOB_YRS CURRENT_HOUSE_YRS Risk_Flag\n",
              "0   1  1303834   23  ...                3                13         0\n",
              "1   2  7574516   40  ...                9                13         0\n",
              "2   3  3991815   66  ...                4                10         0\n",
              "3   4  6256451   41  ...                2                12         1\n",
              "4   5  5768871   47  ...                3                14         1\n",
              "\n",
              "[5 rows x 13 columns]"
            ]
          },
          "metadata": {},
          "execution_count": 4
        }
      ]
    },
    {
      "cell_type": "code",
      "metadata": {
        "id": "_ywCEfG3O41L",
        "colab": {
          "base_uri": "https://localhost:8080/"
        },
        "outputId": "87429514-65c8-4c2e-8496-71dcbca1aaa1"
      },
      "source": [
        "mlmodel.shape"
      ],
      "execution_count": 5,
      "outputs": [
        {
          "output_type": "execute_result",
          "data": {
            "text/plain": [
              "(252000, 13)"
            ]
          },
          "metadata": {},
          "execution_count": 5
        }
      ]
    },
    {
      "cell_type": "code",
      "metadata": {
        "colab": {
          "base_uri": "https://localhost:8080/"
        },
        "id": "HDCD0-GAae3F",
        "outputId": "9ba0f2a6-22d6-4905-f70d-74d04bd38cc2"
      },
      "source": [
        "mlmodel.info()"
      ],
      "execution_count": 6,
      "outputs": [
        {
          "output_type": "stream",
          "name": "stdout",
          "text": [
            "<class 'pandas.core.frame.DataFrame'>\n",
            "RangeIndex: 252000 entries, 0 to 251999\n",
            "Data columns (total 13 columns):\n",
            " #   Column             Non-Null Count   Dtype \n",
            "---  ------             --------------   ----- \n",
            " 0   Id                 252000 non-null  int64 \n",
            " 1   Income             252000 non-null  int64 \n",
            " 2   Age                252000 non-null  int64 \n",
            " 3   Experience         252000 non-null  int64 \n",
            " 4   Married/Single     252000 non-null  object\n",
            " 5   House_Ownership    252000 non-null  object\n",
            " 6   Car_Ownership      252000 non-null  object\n",
            " 7   Profession         252000 non-null  object\n",
            " 8   CITY               252000 non-null  object\n",
            " 9   STATE              252000 non-null  object\n",
            " 10  CURRENT_JOB_YRS    252000 non-null  int64 \n",
            " 11  CURRENT_HOUSE_YRS  252000 non-null  int64 \n",
            " 12  Risk_Flag          252000 non-null  int64 \n",
            "dtypes: int64(7), object(6)\n",
            "memory usage: 25.0+ MB\n"
          ]
        }
      ]
    },
    {
      "cell_type": "code",
      "metadata": {
        "colab": {
          "base_uri": "https://localhost:8080/",
          "height": 297
        },
        "id": "Yr3D1Q3EZGXt",
        "outputId": "7de63b1b-3556-46ec-d0d6-ebb6a63e9bd3"
      },
      "source": [
        "mlmodel.describe()"
      ],
      "execution_count": 7,
      "outputs": [
        {
          "output_type": "execute_result",
          "data": {
            "text/html": [
              "<div>\n",
              "<style scoped>\n",
              "    .dataframe tbody tr th:only-of-type {\n",
              "        vertical-align: middle;\n",
              "    }\n",
              "\n",
              "    .dataframe tbody tr th {\n",
              "        vertical-align: top;\n",
              "    }\n",
              "\n",
              "    .dataframe thead th {\n",
              "        text-align: right;\n",
              "    }\n",
              "</style>\n",
              "<table border=\"1\" class=\"dataframe\">\n",
              "  <thead>\n",
              "    <tr style=\"text-align: right;\">\n",
              "      <th></th>\n",
              "      <th>Id</th>\n",
              "      <th>Income</th>\n",
              "      <th>Age</th>\n",
              "      <th>Experience</th>\n",
              "      <th>CURRENT_JOB_YRS</th>\n",
              "      <th>CURRENT_HOUSE_YRS</th>\n",
              "      <th>Risk_Flag</th>\n",
              "    </tr>\n",
              "  </thead>\n",
              "  <tbody>\n",
              "    <tr>\n",
              "      <th>count</th>\n",
              "      <td>252000.000000</td>\n",
              "      <td>2.520000e+05</td>\n",
              "      <td>252000.000000</td>\n",
              "      <td>252000.000000</td>\n",
              "      <td>252000.000000</td>\n",
              "      <td>252000.000000</td>\n",
              "      <td>252000.000000</td>\n",
              "    </tr>\n",
              "    <tr>\n",
              "      <th>mean</th>\n",
              "      <td>126000.500000</td>\n",
              "      <td>4.997117e+06</td>\n",
              "      <td>49.954071</td>\n",
              "      <td>10.084437</td>\n",
              "      <td>6.333877</td>\n",
              "      <td>11.997794</td>\n",
              "      <td>0.123000</td>\n",
              "    </tr>\n",
              "    <tr>\n",
              "      <th>std</th>\n",
              "      <td>72746.278255</td>\n",
              "      <td>2.878311e+06</td>\n",
              "      <td>17.063855</td>\n",
              "      <td>6.002590</td>\n",
              "      <td>3.647053</td>\n",
              "      <td>1.399037</td>\n",
              "      <td>0.328438</td>\n",
              "    </tr>\n",
              "    <tr>\n",
              "      <th>min</th>\n",
              "      <td>1.000000</td>\n",
              "      <td>1.031000e+04</td>\n",
              "      <td>21.000000</td>\n",
              "      <td>0.000000</td>\n",
              "      <td>0.000000</td>\n",
              "      <td>10.000000</td>\n",
              "      <td>0.000000</td>\n",
              "    </tr>\n",
              "    <tr>\n",
              "      <th>25%</th>\n",
              "      <td>63000.750000</td>\n",
              "      <td>2.503015e+06</td>\n",
              "      <td>35.000000</td>\n",
              "      <td>5.000000</td>\n",
              "      <td>3.000000</td>\n",
              "      <td>11.000000</td>\n",
              "      <td>0.000000</td>\n",
              "    </tr>\n",
              "    <tr>\n",
              "      <th>50%</th>\n",
              "      <td>126000.500000</td>\n",
              "      <td>5.000694e+06</td>\n",
              "      <td>50.000000</td>\n",
              "      <td>10.000000</td>\n",
              "      <td>6.000000</td>\n",
              "      <td>12.000000</td>\n",
              "      <td>0.000000</td>\n",
              "    </tr>\n",
              "    <tr>\n",
              "      <th>75%</th>\n",
              "      <td>189000.250000</td>\n",
              "      <td>7.477502e+06</td>\n",
              "      <td>65.000000</td>\n",
              "      <td>15.000000</td>\n",
              "      <td>9.000000</td>\n",
              "      <td>13.000000</td>\n",
              "      <td>0.000000</td>\n",
              "    </tr>\n",
              "    <tr>\n",
              "      <th>max</th>\n",
              "      <td>252000.000000</td>\n",
              "      <td>9.999938e+06</td>\n",
              "      <td>79.000000</td>\n",
              "      <td>20.000000</td>\n",
              "      <td>14.000000</td>\n",
              "      <td>14.000000</td>\n",
              "      <td>1.000000</td>\n",
              "    </tr>\n",
              "  </tbody>\n",
              "</table>\n",
              "</div>"
            ],
            "text/plain": [
              "                  Id        Income  ...  CURRENT_HOUSE_YRS      Risk_Flag\n",
              "count  252000.000000  2.520000e+05  ...      252000.000000  252000.000000\n",
              "mean   126000.500000  4.997117e+06  ...          11.997794       0.123000\n",
              "std     72746.278255  2.878311e+06  ...           1.399037       0.328438\n",
              "min         1.000000  1.031000e+04  ...          10.000000       0.000000\n",
              "25%     63000.750000  2.503015e+06  ...          11.000000       0.000000\n",
              "50%    126000.500000  5.000694e+06  ...          12.000000       0.000000\n",
              "75%    189000.250000  7.477502e+06  ...          13.000000       0.000000\n",
              "max    252000.000000  9.999938e+06  ...          14.000000       1.000000\n",
              "\n",
              "[8 rows x 7 columns]"
            ]
          },
          "metadata": {},
          "execution_count": 7
        }
      ]
    },
    {
      "cell_type": "markdown",
      "metadata": {
        "id": "4nag29q7ZRRB"
      },
      "source": [
        "##Exploratory Data Analysis"
      ]
    },
    {
      "cell_type": "markdown",
      "metadata": {
        "id": "Y5WynjiqZZJ2"
      },
      "source": [
        "Let's do some exploratory data analysis, we'll use seaborn and matplotlib built in plotting capabilities. Feel free to use whatever library you want to use."
      ]
    },
    {
      "cell_type": "code",
      "metadata": {
        "colab": {
          "base_uri": "https://localhost:8080/",
          "height": 279
        },
        "id": "3hJ99wSVCN6Z",
        "outputId": "4531bcee-a789-4126-f5dc-bb57e95bd9c3"
      },
      "source": [
        "ax = sns.countplot(x=\"Married/Single\", data=mlmodel)\n"
      ],
      "execution_count": 8,
      "outputs": [
        {
          "output_type": "display_data",
          "data": {
            "image/png": "[encoded data removed]",
            "text/plain": [
              "<Figure size 432x288 with 1 Axes>"
            ]
          },
          "metadata": {
            "needs_background": "light"
          }
        }
      ]
    },
    {
      "cell_type": "code",
      "metadata": {
        "colab": {
          "base_uri": "https://localhost:8080/",
          "height": 281
        },
        "id": "FpskPcTA7_Bl",
        "outputId": "49d0d0c1-b59b-41b1-de67-ff7eec19fcfe"
      },
      "source": [
        "ax = sns.countplot(x=\"House_Ownership\", data=mlmodel)\n"
      ],
      "execution_count": 9,
      "outputs": [
        {
          "output_type": "display_data",
          "data": {
            "image/png": "[encoded data removed]",
            "text/plain": [
              "<Figure size 432x288 with 1 Axes>"
            ]
          },
          "metadata": {
            "needs_background": "light"
          }
        }
      ]
    },
    {
      "cell_type": "code",
      "metadata": {
        "colab": {
          "base_uri": "https://localhost:8080/",
          "height": 514
        },
        "id": "6Ci3Wnq3OuQY",
        "outputId": "ad9519eb-f0f9-43ee-ef33-8b89c8de07df"
      },
      "source": [
        "fig, ax = plt.subplots(figsize=(20, 10))  # a figure with a single Axes\n",
        "sns.countplot(y=\"Profession\", data=mlmodel)\n",
        "ax.set_title('Value Counts', fontsize=20)\n",
        "plt.show()"
      ],
      "execution_count": 10,
      "outputs": [
        {
          "output_type": "display_data",
          "data": {
            "image/png": "[encoded data removed]",
            "text/plain": [
              "<Figure size 1440x720 with 1 Axes>"
            ]
          },
          "metadata": {
            "needs_background": "light"
          }
        }
      ]
    },
    {
      "cell_type": "code",
      "metadata": {
        "colab": {
          "base_uri": "https://localhost:8080/"
        },
        "id": "JqdfcnrNok6o",
        "outputId": "b73203ad-9e3a-4ad5-c967-f7633e3bdba9"
      },
      "source": [
        "mlmodel.STATE.value_counts()"
      ],
      "execution_count": 11,
      "outputs": [
        {
          "output_type": "execute_result",
          "data": {
            "text/plain": [
              "Uttar_Pradesh        28400\n",
              "Maharashtra          25562\n",
              "Andhra_Pradesh       25297\n",
              "West_Bengal          23483\n",
              "Bihar                19780\n",
              "Tamil_Nadu           16537\n",
              "Madhya_Pradesh       14122\n",
              "Karnataka            11855\n",
              "Gujarat              11408\n",
              "Rajasthan             9174\n",
              "Jharkhand             8965\n",
              "Haryana               7890\n",
              "Telangana             7524\n",
              "Assam                 7062\n",
              "Kerala                5805\n",
              "Delhi                 5490\n",
              "Punjab                4720\n",
              "Odisha                4658\n",
              "Chhattisgarh          3834\n",
              "Uttarakhand           1874\n",
              "Jammu_and_Kashmir     1780\n",
              "Puducherry            1433\n",
              "Manipur                849\n",
              "Mizoram                849\n",
              "Himachal_Pradesh       833\n",
              "Tripura                809\n",
              "Uttar_Pradesh[5]       743\n",
              "Chandigarh             656\n",
              "Sikkim                 608\n",
              "Name: STATE, dtype: int64"
            ]
          },
          "metadata": {},
          "execution_count": 11
        }
      ]
    },
    {
      "cell_type": "code",
      "metadata": {
        "colab": {
          "base_uri": "https://localhost:8080/",
          "height": 204
        },
        "id": "jKdyASbXZJAE",
        "outputId": "c41674f4-d000-40e0-956f-18bfe76b5390"
      },
      "source": [
        "'''Categorical columns'''\n",
        "#cat_col=mlmodel.select_dtypes(include=\"0\")\n",
        "#cat_col.head()\n",
        "cat_col=mlmodel.select_dtypes(exclude=[np.number])\n",
        "cat_col.head()\n"
      ],
      "execution_count": 12,
      "outputs": [
        {
          "output_type": "execute_result",
          "data": {
            "text/html": [
              "<div>\n",
              "<style scoped>\n",
              "    .dataframe tbody tr th:only-of-type {\n",
              "        vertical-align: middle;\n",
              "    }\n",
              "\n",
              "    .dataframe tbody tr th {\n",
              "        vertical-align: top;\n",
              "    }\n",
              "\n",
              "    .dataframe thead th {\n",
              "        text-align: right;\n",
              "    }\n",
              "</style>\n",
              "<table border=\"1\" class=\"dataframe\">\n",
              "  <thead>\n",
              "    <tr style=\"text-align: right;\">\n",
              "      <th></th>\n",
              "      <th>Married/Single</th>\n",
              "      <th>House_Ownership</th>\n",
              "      <th>Car_Ownership</th>\n",
              "      <th>Profession</th>\n",
              "      <th>CITY</th>\n",
              "      <th>STATE</th>\n",
              "    </tr>\n",
              "  </thead>\n",
              "  <tbody>\n",
              "    <tr>\n",
              "      <th>0</th>\n",
              "      <td>single</td>\n",
              "      <td>rented</td>\n",
              "      <td>no</td>\n",
              "      <td>Mechanical_engineer</td>\n",
              "      <td>Rewa</td>\n",
              "      <td>Madhya_Pradesh</td>\n",
              "    </tr>\n",
              "    <tr>\n",
              "      <th>1</th>\n",
              "      <td>single</td>\n",
              "      <td>rented</td>\n",
              "      <td>no</td>\n",
              "      <td>Software_Developer</td>\n",
              "      <td>Parbhani</td>\n",
              "      <td>Maharashtra</td>\n",
              "    </tr>\n",
              "    <tr>\n",
              "      <th>2</th>\n",
              "      <td>married</td>\n",
              "      <td>rented</td>\n",
              "      <td>no</td>\n",
              "      <td>Technical_writer</td>\n",
              "      <td>Alappuzha</td>\n",
              "      <td>Kerala</td>\n",
              "    </tr>\n",
              "    <tr>\n",
              "      <th>3</th>\n",
              "      <td>single</td>\n",
              "      <td>rented</td>\n",
              "      <td>yes</td>\n",
              "      <td>Software_Developer</td>\n",
              "      <td>Bhubaneswar</td>\n",
              "      <td>Odisha</td>\n",
              "    </tr>\n",
              "    <tr>\n",
              "      <th>4</th>\n",
              "      <td>single</td>\n",
              "      <td>rented</td>\n",
              "      <td>no</td>\n",
              "      <td>Civil_servant</td>\n",
              "      <td>Tiruchirappalli[10]</td>\n",
              "      <td>Tamil_Nadu</td>\n",
              "    </tr>\n",
              "  </tbody>\n",
              "</table>\n",
              "</div>"
            ],
            "text/plain": [
              "  Married/Single House_Ownership  ...                 CITY           STATE\n",
              "0         single          rented  ...                 Rewa  Madhya_Pradesh\n",
              "1         single          rented  ...             Parbhani     Maharashtra\n",
              "2        married          rented  ...            Alappuzha          Kerala\n",
              "3         single          rented  ...          Bhubaneswar          Odisha\n",
              "4         single          rented  ...  Tiruchirappalli[10]      Tamil_Nadu\n",
              "\n",
              "[5 rows x 6 columns]"
            ]
          },
          "metadata": {},
          "execution_count": 12
        }
      ]
    },
    {
      "cell_type": "code",
      "metadata": {
        "colab": {
          "base_uri": "https://localhost:8080/",
          "height": 204
        },
        "id": "avKBElDHcU-d",
        "outputId": "defd8281-98c9-49f3-8a36-3584f6cc17ee"
      },
      "source": [
        "'''Numerical columns'''\n",
        "cat_col=mlmodel.select_dtypes(include=[np.number])\n",
        "cat_col.head()\n"
      ],
      "execution_count": 13,
      "outputs": [
        {
          "output_type": "execute_result",
          "data": {
            "text/html": [
              "<div>\n",
              "<style scoped>\n",
              "    .dataframe tbody tr th:only-of-type {\n",
              "        vertical-align: middle;\n",
              "    }\n",
              "\n",
              "    .dataframe tbody tr th {\n",
              "        vertical-align: top;\n",
              "    }\n",
              "\n",
              "    .dataframe thead th {\n",
              "        text-align: right;\n",
              "    }\n",
              "</style>\n",
              "<table border=\"1\" class=\"dataframe\">\n",
              "  <thead>\n",
              "    <tr style=\"text-align: right;\">\n",
              "      <th></th>\n",
              "      <th>Id</th>\n",
              "      <th>Income</th>\n",
              "      <th>Age</th>\n",
              "      <th>Experience</th>\n",
              "      <th>CURRENT_JOB_YRS</th>\n",
              "      <th>CURRENT_HOUSE_YRS</th>\n",
              "      <th>Risk_Flag</th>\n",
              "    </tr>\n",
              "  </thead>\n",
              "  <tbody>\n",
              "    <tr>\n",
              "      <th>0</th>\n",
              "      <td>1</td>\n",
              "      <td>1303834</td>\n",
              "      <td>23</td>\n",
              "      <td>3</td>\n",
              "      <td>3</td>\n",
              "      <td>13</td>\n",
              "      <td>0</td>\n",
              "    </tr>\n",
              "    <tr>\n",
              "      <th>1</th>\n",
              "      <td>2</td>\n",
              "      <td>7574516</td>\n",
              "      <td>40</td>\n",
              "      <td>10</td>\n",
              "      <td>9</td>\n",
              "      <td>13</td>\n",
              "      <td>0</td>\n",
              "    </tr>\n",
              "    <tr>\n",
              "      <th>2</th>\n",
              "      <td>3</td>\n",
              "      <td>3991815</td>\n",
              "      <td>66</td>\n",
              "      <td>4</td>\n",
              "      <td>4</td>\n",
              "      <td>10</td>\n",
              "      <td>0</td>\n",
              "    </tr>\n",
              "    <tr>\n",
              "      <th>3</th>\n",
              "      <td>4</td>\n",
              "      <td>6256451</td>\n",
              "      <td>41</td>\n",
              "      <td>2</td>\n",
              "      <td>2</td>\n",
              "      <td>12</td>\n",
              "      <td>1</td>\n",
              "    </tr>\n",
              "    <tr>\n",
              "      <th>4</th>\n",
              "      <td>5</td>\n",
              "      <td>5768871</td>\n",
              "      <td>47</td>\n",
              "      <td>11</td>\n",
              "      <td>3</td>\n",
              "      <td>14</td>\n",
              "      <td>1</td>\n",
              "    </tr>\n",
              "  </tbody>\n",
              "</table>\n",
              "</div>"
            ],
            "text/plain": [
              "   Id   Income  Age  Experience  CURRENT_JOB_YRS  CURRENT_HOUSE_YRS  Risk_Flag\n",
              "0   1  1303834   23           3                3                 13          0\n",
              "1   2  7574516   40          10                9                 13          0\n",
              "2   3  3991815   66           4                4                 10          0\n",
              "3   4  6256451   41           2                2                 12          1\n",
              "4   5  5768871   47          11                3                 14          1"
            ]
          },
          "metadata": {},
          "execution_count": 13
        }
      ]
    },
    {
      "cell_type": "code",
      "metadata": {
        "colab": {
          "base_uri": "https://localhost:8080/",
          "height": 173
        },
        "id": "XoVHQoHTG2w_",
        "outputId": "92e73212-c970-4394-f1bd-fa2710e7869a"
      },
      "source": [
        "'''Reproduce the code for this (Married/Single groupedby Income)\t'''\n",
        "#mlmodel.groupby('Married/Single')[['Income']].mean()\n",
        "\n",
        "#mlmodel.groupby(['Married/Single']).mean()\n",
        "#mlmodel.groupby(['Income']).mean()\n",
        "#mlmodel.groupby(['Married/Single']).Income()\n",
        "\n",
        "\n",
        "#mlmodel.groupby(['Married/Single'], sort=False)[['Income']].mean()\n",
        "mlmodel.groupby('Married/Single').agg({'Income':['count','mean','max','min']})\n",
        "\n"
      ],
      "execution_count": 38,
      "outputs": [
        {
          "output_type": "execute_result",
          "data": {
            "text/html": [
              "<div>\n",
              "<style scoped>\n",
              "    .dataframe tbody tr th:only-of-type {\n",
              "        vertical-align: middle;\n",
              "    }\n",
              "\n",
              "    .dataframe tbody tr th {\n",
              "        vertical-align: top;\n",
              "    }\n",
              "\n",
              "    .dataframe thead tr th {\n",
              "        text-align: left;\n",
              "    }\n",
              "\n",
              "    .dataframe thead tr:last-of-type th {\n",
              "        text-align: right;\n",
              "    }\n",
              "</style>\n",
              "<table border=\"1\" class=\"dataframe\">\n",
              "  <thead>\n",
              "    <tr>\n",
              "      <th></th>\n",
              "      <th colspan=\"4\" halign=\"left\">Income</th>\n",
              "    </tr>\n",
              "    <tr>\n",
              "      <th></th>\n",
              "      <th>count</th>\n",
              "      <th>mean</th>\n",
              "      <th>max</th>\n",
              "      <th>min</th>\n",
              "    </tr>\n",
              "    <tr>\n",
              "      <th>Married/Single</th>\n",
              "      <th></th>\n",
              "      <th></th>\n",
              "      <th></th>\n",
              "      <th></th>\n",
              "    </tr>\n",
              "  </thead>\n",
              "  <tbody>\n",
              "    <tr>\n",
              "      <th>married</th>\n",
              "      <td>25728</td>\n",
              "      <td>4.974221e+06</td>\n",
              "      <td>9994061</td>\n",
              "      <td>11550</td>\n",
              "    </tr>\n",
              "    <tr>\n",
              "      <th>single</th>\n",
              "      <td>226272</td>\n",
              "      <td>4.999720e+06</td>\n",
              "      <td>9999938</td>\n",
              "      <td>10310</td>\n",
              "    </tr>\n",
              "  </tbody>\n",
              "</table>\n",
              "</div>"
            ],
            "text/plain": [
              "                Income                              \n",
              "                 count          mean      max    min\n",
              "Married/Single                                      \n",
              "married          25728  4.974221e+06  9994061  11550\n",
              "single          226272  4.999720e+06  9999938  10310"
            ]
          },
          "metadata": {},
          "execution_count": 38
        }
      ]
    },
    {
      "cell_type": "code",
      "metadata": {
        "colab": {
          "base_uri": "https://localhost:8080/",
          "height": 731
        },
        "id": "fIYqGh-xDGTe",
        "outputId": "4fe77d8d-b852-4cd1-8550-40335c2f66af"
      },
      "source": [
        "'''Reproduce the code for this (Experience groupedby Income)'''\n",
        "#mlmodel.groupby('Experience').Income.describe()\n",
        "#mlmodel.groupby('Experience', sort=False).agg({'Income':['mean','max','min']})\n",
        "#mlmodel.groupby('Experience').agg({'Income':['mean','max','min']})\n",
        "#mlmodel.groupby('Income').agg({'Experience':['mean','max','min']})\n",
        "#dp = mlmodel.groupby('Experience').agg({'Income':['mean','max','min']})\n",
        "mlmodel.groupby(['Experience']).Income.agg(['mean', min, max]).sort_values(by='mean',ascending=False)"
      ],
      "execution_count": 122,
      "outputs": [
        {
          "output_type": "execute_result",
          "data": {
            "text/html": [
              "<div>\n",
              "<style scoped>\n",
              "    .dataframe tbody tr th:only-of-type {\n",
              "        vertical-align: middle;\n",
              "    }\n",
              "\n",
              "    .dataframe tbody tr th {\n",
              "        vertical-align: top;\n",
              "    }\n",
              "\n",
              "    .dataframe thead th {\n",
              "        text-align: right;\n",
              "    }\n",
              "</style>\n",
              "<table border=\"1\" class=\"dataframe\">\n",
              "  <thead>\n",
              "    <tr style=\"text-align: right;\">\n",
              "      <th></th>\n",
              "      <th>mean</th>\n",
              "      <th>min</th>\n",
              "      <th>max</th>\n",
              "    </tr>\n",
              "    <tr>\n",
              "      <th>Experience</th>\n",
              "      <th></th>\n",
              "      <th></th>\n",
              "      <th></th>\n",
              "    </tr>\n",
              "  </thead>\n",
              "  <tbody>\n",
              "    <tr>\n",
              "      <th>12</th>\n",
              "      <td>5.282886e+06</td>\n",
              "      <td>12902</td>\n",
              "      <td>9993649</td>\n",
              "    </tr>\n",
              "    <tr>\n",
              "      <th>13</th>\n",
              "      <td>5.176109e+06</td>\n",
              "      <td>13220</td>\n",
              "      <td>9998070</td>\n",
              "    </tr>\n",
              "    <tr>\n",
              "      <th>17</th>\n",
              "      <td>5.150731e+06</td>\n",
              "      <td>21995</td>\n",
              "      <td>9995445</td>\n",
              "    </tr>\n",
              "    <tr>\n",
              "      <th>9</th>\n",
              "      <td>5.142933e+06</td>\n",
              "      <td>16212</td>\n",
              "      <td>9996861</td>\n",
              "    </tr>\n",
              "    <tr>\n",
              "      <th>15</th>\n",
              "      <td>5.090523e+06</td>\n",
              "      <td>29519</td>\n",
              "      <td>9973420</td>\n",
              "    </tr>\n",
              "    <tr>\n",
              "      <th>2</th>\n",
              "      <td>5.070527e+06</td>\n",
              "      <td>13357</td>\n",
              "      <td>9979070</td>\n",
              "    </tr>\n",
              "    <tr>\n",
              "      <th>19</th>\n",
              "      <td>5.056668e+06</td>\n",
              "      <td>11114</td>\n",
              "      <td>9999938</td>\n",
              "    </tr>\n",
              "    <tr>\n",
              "      <th>4</th>\n",
              "      <td>5.039216e+06</td>\n",
              "      <td>12841</td>\n",
              "      <td>9994882</td>\n",
              "    </tr>\n",
              "    <tr>\n",
              "      <th>3</th>\n",
              "      <td>5.027427e+06</td>\n",
              "      <td>13792</td>\n",
              "      <td>9992141</td>\n",
              "    </tr>\n",
              "    <tr>\n",
              "      <th>0</th>\n",
              "      <td>5.005593e+06</td>\n",
              "      <td>11735</td>\n",
              "      <td>9999180</td>\n",
              "    </tr>\n",
              "    <tr>\n",
              "      <th>14</th>\n",
              "      <td>5.004082e+06</td>\n",
              "      <td>17496</td>\n",
              "      <td>9994501</td>\n",
              "    </tr>\n",
              "    <tr>\n",
              "      <th>6</th>\n",
              "      <td>5.000771e+06</td>\n",
              "      <td>11799</td>\n",
              "      <td>9994518</td>\n",
              "    </tr>\n",
              "    <tr>\n",
              "      <th>18</th>\n",
              "      <td>4.965754e+06</td>\n",
              "      <td>11483</td>\n",
              "      <td>9994061</td>\n",
              "    </tr>\n",
              "    <tr>\n",
              "      <th>5</th>\n",
              "      <td>4.928934e+06</td>\n",
              "      <td>12766</td>\n",
              "      <td>9984718</td>\n",
              "    </tr>\n",
              "    <tr>\n",
              "      <th>16</th>\n",
              "      <td>4.894384e+06</td>\n",
              "      <td>14936</td>\n",
              "      <td>9989145</td>\n",
              "    </tr>\n",
              "    <tr>\n",
              "      <th>20</th>\n",
              "      <td>4.868874e+06</td>\n",
              "      <td>10310</td>\n",
              "      <td>9996969</td>\n",
              "    </tr>\n",
              "    <tr>\n",
              "      <th>10</th>\n",
              "      <td>4.868093e+06</td>\n",
              "      <td>16045</td>\n",
              "      <td>9996946</td>\n",
              "    </tr>\n",
              "    <tr>\n",
              "      <th>11</th>\n",
              "      <td>4.856583e+06</td>\n",
              "      <td>14867</td>\n",
              "      <td>9999400</td>\n",
              "    </tr>\n",
              "    <tr>\n",
              "      <th>1</th>\n",
              "      <td>4.849857e+06</td>\n",
              "      <td>10675</td>\n",
              "      <td>9993041</td>\n",
              "    </tr>\n",
              "    <tr>\n",
              "      <th>8</th>\n",
              "      <td>4.810273e+06</td>\n",
              "      <td>11854</td>\n",
              "      <td>9998280</td>\n",
              "    </tr>\n",
              "    <tr>\n",
              "      <th>7</th>\n",
              "      <td>4.794962e+06</td>\n",
              "      <td>14339</td>\n",
              "      <td>9992692</td>\n",
              "    </tr>\n",
              "  </tbody>\n",
              "</table>\n",
              "</div>"
            ],
            "text/plain": [
              "                    mean    min      max\n",
              "Experience                              \n",
              "12          5.282886e+06  12902  9993649\n",
              "13          5.176109e+06  13220  9998070\n",
              "17          5.150731e+06  21995  9995445\n",
              "9           5.142933e+06  16212  9996861\n",
              "15          5.090523e+06  29519  9973420\n",
              "2           5.070527e+06  13357  9979070\n",
              "19          5.056668e+06  11114  9999938\n",
              "4           5.039216e+06  12841  9994882\n",
              "3           5.027427e+06  13792  9992141\n",
              "0           5.005593e+06  11735  9999180\n",
              "14          5.004082e+06  17496  9994501\n",
              "6           5.000771e+06  11799  9994518\n",
              "18          4.965754e+06  11483  9994061\n",
              "5           4.928934e+06  12766  9984718\n",
              "16          4.894384e+06  14936  9989145\n",
              "20          4.868874e+06  10310  9996969\n",
              "10          4.868093e+06  16045  9996946\n",
              "11          4.856583e+06  14867  9999400\n",
              "1           4.849857e+06  10675  9993041\n",
              "8           4.810273e+06  11854  9998280\n",
              "7           4.794962e+06  14339  9992692"
            ]
          },
          "metadata": {},
          "execution_count": 122
        }
      ]
    },
    {
      "cell_type": "code",
      "metadata": {
        "colab": {
          "base_uri": "https://localhost:8080/",
          "height": 1000
        },
        "id": "86m2BYPpHsCl",
        "outputId": "d224ba47-4367-4016-fb38-0f856ad2378d"
      },
      "source": [
        "#Clue = '''Reproduce the code for this (Profession groupedby Income)'''\n",
        "#Clue=mlmodel.groupby('Profession').agg({'Income':['mean','max','min']})\n",
        "Clue=mlmodel.groupby(['Profession']).Income.agg(['mean', min, max]).sort_values(by='mean',ascending=False)\n",
        "Clue"
      ],
      "execution_count": 123,
      "outputs": [
        {
          "output_type": "execute_result",
          "data": {
            "text/html": [
              "<div>\n",
              "<style scoped>\n",
              "    .dataframe tbody tr th:only-of-type {\n",
              "        vertical-align: middle;\n",
              "    }\n",
              "\n",
              "    .dataframe tbody tr th {\n",
              "        vertical-align: top;\n",
              "    }\n",
              "\n",
              "    .dataframe thead th {\n",
              "        text-align: right;\n",
              "    }\n",
              "</style>\n",
              "<table border=\"1\" class=\"dataframe\">\n",
              "  <thead>\n",
              "    <tr style=\"text-align: right;\">\n",
              "      <th></th>\n",
              "      <th>mean</th>\n",
              "      <th>min</th>\n",
              "      <th>max</th>\n",
              "    </tr>\n",
              "    <tr>\n",
              "      <th>Profession</th>\n",
              "      <th></th>\n",
              "      <th></th>\n",
              "      <th></th>\n",
              "    </tr>\n",
              "  </thead>\n",
              "  <tbody>\n",
              "    <tr>\n",
              "      <th>Petroleum_Engineer</th>\n",
              "      <td>5.443310e+06</td>\n",
              "      <td>22921</td>\n",
              "      <td>9968353</td>\n",
              "    </tr>\n",
              "    <tr>\n",
              "      <th>Psychologist</th>\n",
              "      <td>5.357795e+06</td>\n",
              "      <td>33224</td>\n",
              "      <td>9985964</td>\n",
              "    </tr>\n",
              "    <tr>\n",
              "      <th>Designer</th>\n",
              "      <td>5.336802e+06</td>\n",
              "      <td>12841</td>\n",
              "      <td>9996946</td>\n",
              "    </tr>\n",
              "    <tr>\n",
              "      <th>Scientist</th>\n",
              "      <td>5.282710e+06</td>\n",
              "      <td>13792</td>\n",
              "      <td>9975985</td>\n",
              "    </tr>\n",
              "    <tr>\n",
              "      <th>Surgeon</th>\n",
              "      <td>5.235359e+06</td>\n",
              "      <td>18215</td>\n",
              "      <td>9995445</td>\n",
              "    </tr>\n",
              "    <tr>\n",
              "      <th>Comedian</th>\n",
              "      <td>5.199539e+06</td>\n",
              "      <td>13429</td>\n",
              "      <td>9984983</td>\n",
              "    </tr>\n",
              "    <tr>\n",
              "      <th>Chemical_engineer</th>\n",
              "      <td>5.189805e+06</td>\n",
              "      <td>26926</td>\n",
              "      <td>9984718</td>\n",
              "    </tr>\n",
              "    <tr>\n",
              "      <th>Mechanical_engineer</th>\n",
              "      <td>5.175032e+06</td>\n",
              "      <td>37057</td>\n",
              "      <td>9990505</td>\n",
              "    </tr>\n",
              "    <tr>\n",
              "      <th>Artist</th>\n",
              "      <td>5.164765e+06</td>\n",
              "      <td>31297</td>\n",
              "      <td>9976619</td>\n",
              "    </tr>\n",
              "    <tr>\n",
              "      <th>Financial_Analyst</th>\n",
              "      <td>5.145753e+06</td>\n",
              "      <td>17660</td>\n",
              "      <td>9990776</td>\n",
              "    </tr>\n",
              "    <tr>\n",
              "      <th>Consultant</th>\n",
              "      <td>5.138436e+06</td>\n",
              "      <td>25161</td>\n",
              "      <td>9967854</td>\n",
              "    </tr>\n",
              "    <tr>\n",
              "      <th>Lawyer</th>\n",
              "      <td>5.128131e+06</td>\n",
              "      <td>28993</td>\n",
              "      <td>9976302</td>\n",
              "    </tr>\n",
              "    <tr>\n",
              "      <th>Computer_operator</th>\n",
              "      <td>5.112550e+06</td>\n",
              "      <td>28070</td>\n",
              "      <td>9993961</td>\n",
              "    </tr>\n",
              "    <tr>\n",
              "      <th>Surveyor</th>\n",
              "      <td>5.112352e+06</td>\n",
              "      <td>11114</td>\n",
              "      <td>9994518</td>\n",
              "    </tr>\n",
              "    <tr>\n",
              "      <th>Secretary</th>\n",
              "      <td>5.102880e+06</td>\n",
              "      <td>72334</td>\n",
              "      <td>9998070</td>\n",
              "    </tr>\n",
              "    <tr>\n",
              "      <th>Army_officer</th>\n",
              "      <td>5.094473e+06</td>\n",
              "      <td>12902</td>\n",
              "      <td>9967074</td>\n",
              "    </tr>\n",
              "    <tr>\n",
              "      <th>Aviator</th>\n",
              "      <td>5.074104e+06</td>\n",
              "      <td>53134</td>\n",
              "      <td>9998280</td>\n",
              "    </tr>\n",
              "    <tr>\n",
              "      <th>Fashion_Designer</th>\n",
              "      <td>5.070883e+06</td>\n",
              "      <td>12766</td>\n",
              "      <td>9990182</td>\n",
              "    </tr>\n",
              "    <tr>\n",
              "      <th>Industrial_Engineer</th>\n",
              "      <td>5.060502e+06</td>\n",
              "      <td>19236</td>\n",
              "      <td>9988210</td>\n",
              "    </tr>\n",
              "    <tr>\n",
              "      <th>Firefighter</th>\n",
              "      <td>5.046134e+06</td>\n",
              "      <td>29380</td>\n",
              "      <td>9980725</td>\n",
              "    </tr>\n",
              "    <tr>\n",
              "      <th>Microbiologist</th>\n",
              "      <td>5.035358e+06</td>\n",
              "      <td>12825</td>\n",
              "      <td>9962662</td>\n",
              "    </tr>\n",
              "    <tr>\n",
              "      <th>Statistician</th>\n",
              "      <td>5.028648e+06</td>\n",
              "      <td>31705</td>\n",
              "      <td>9996861</td>\n",
              "    </tr>\n",
              "    <tr>\n",
              "      <th>Librarian</th>\n",
              "      <td>5.007590e+06</td>\n",
              "      <td>25331</td>\n",
              "      <td>9999400</td>\n",
              "    </tr>\n",
              "    <tr>\n",
              "      <th>Architect</th>\n",
              "      <td>5.004079e+06</td>\n",
              "      <td>11854</td>\n",
              "      <td>9984145</td>\n",
              "    </tr>\n",
              "    <tr>\n",
              "      <th>Chartered_Accountant</th>\n",
              "      <td>5.002232e+06</td>\n",
              "      <td>15613</td>\n",
              "      <td>9993403</td>\n",
              "    </tr>\n",
              "    <tr>\n",
              "      <th>Hotel_Manager</th>\n",
              "      <td>4.996878e+06</td>\n",
              "      <td>17801</td>\n",
              "      <td>9992692</td>\n",
              "    </tr>\n",
              "    <tr>\n",
              "      <th>Computer_hardware_engineer</th>\n",
              "      <td>4.989531e+06</td>\n",
              "      <td>13357</td>\n",
              "      <td>9996192</td>\n",
              "    </tr>\n",
              "    <tr>\n",
              "      <th>Technology_specialist</th>\n",
              "      <td>4.985643e+06</td>\n",
              "      <td>17496</td>\n",
              "      <td>9984686</td>\n",
              "    </tr>\n",
              "    <tr>\n",
              "      <th>Biomedical_Engineer</th>\n",
              "      <td>4.982528e+06</td>\n",
              "      <td>19472</td>\n",
              "      <td>9994932</td>\n",
              "    </tr>\n",
              "    <tr>\n",
              "      <th>Technician</th>\n",
              "      <td>4.971492e+06</td>\n",
              "      <td>16045</td>\n",
              "      <td>9982680</td>\n",
              "    </tr>\n",
              "    <tr>\n",
              "      <th>Air_traffic_controller</th>\n",
              "      <td>4.958422e+06</td>\n",
              "      <td>14339</td>\n",
              "      <td>9979373</td>\n",
              "    </tr>\n",
              "    <tr>\n",
              "      <th>Dentist</th>\n",
              "      <td>4.948819e+06</td>\n",
              "      <td>26499</td>\n",
              "      <td>9989145</td>\n",
              "    </tr>\n",
              "    <tr>\n",
              "      <th>Civil_servant</th>\n",
              "      <td>4.947843e+06</td>\n",
              "      <td>11430</td>\n",
              "      <td>9983131</td>\n",
              "    </tr>\n",
              "    <tr>\n",
              "      <th>Technical_writer</th>\n",
              "      <td>4.922266e+06</td>\n",
              "      <td>11799</td>\n",
              "      <td>9980565</td>\n",
              "    </tr>\n",
              "    <tr>\n",
              "      <th>Economist</th>\n",
              "      <td>4.916002e+06</td>\n",
              "      <td>16890</td>\n",
              "      <td>9994882</td>\n",
              "    </tr>\n",
              "    <tr>\n",
              "      <th>Politician</th>\n",
              "      <td>4.913568e+06</td>\n",
              "      <td>16909</td>\n",
              "      <td>9994061</td>\n",
              "    </tr>\n",
              "    <tr>\n",
              "      <th>Graphic_Designer</th>\n",
              "      <td>4.900447e+06</td>\n",
              "      <td>10675</td>\n",
              "      <td>9973420</td>\n",
              "    </tr>\n",
              "    <tr>\n",
              "      <th>Analyst</th>\n",
              "      <td>4.894181e+06</td>\n",
              "      <td>11550</td>\n",
              "      <td>9993798</td>\n",
              "    </tr>\n",
              "    <tr>\n",
              "      <th>Web_designer</th>\n",
              "      <td>4.893095e+06</td>\n",
              "      <td>21799</td>\n",
              "      <td>9980350</td>\n",
              "    </tr>\n",
              "    <tr>\n",
              "      <th>Software_Developer</th>\n",
              "      <td>4.891296e+06</td>\n",
              "      <td>51528</td>\n",
              "      <td>9964816</td>\n",
              "    </tr>\n",
              "    <tr>\n",
              "      <th>Geologist</th>\n",
              "      <td>4.879362e+06</td>\n",
              "      <td>34955</td>\n",
              "      <td>9991298</td>\n",
              "    </tr>\n",
              "    <tr>\n",
              "      <th>Design_Engineer</th>\n",
              "      <td>4.840221e+06</td>\n",
              "      <td>44761</td>\n",
              "      <td>9962923</td>\n",
              "    </tr>\n",
              "    <tr>\n",
              "      <th>Chef</th>\n",
              "      <td>4.839915e+06</td>\n",
              "      <td>11735</td>\n",
              "      <td>9977117</td>\n",
              "    </tr>\n",
              "    <tr>\n",
              "      <th>Engineer</th>\n",
              "      <td>4.814755e+06</td>\n",
              "      <td>10310</td>\n",
              "      <td>9993649</td>\n",
              "    </tr>\n",
              "    <tr>\n",
              "      <th>Physician</th>\n",
              "      <td>4.780384e+06</td>\n",
              "      <td>12608</td>\n",
              "      <td>9987805</td>\n",
              "    </tr>\n",
              "    <tr>\n",
              "      <th>Magistrate</th>\n",
              "      <td>4.769920e+06</td>\n",
              "      <td>16212</td>\n",
              "      <td>9982430</td>\n",
              "    </tr>\n",
              "    <tr>\n",
              "      <th>Civil_engineer</th>\n",
              "      <td>4.755441e+06</td>\n",
              "      <td>25674</td>\n",
              "      <td>9992141</td>\n",
              "    </tr>\n",
              "    <tr>\n",
              "      <th>Official</th>\n",
              "      <td>4.737617e+06</td>\n",
              "      <td>13629</td>\n",
              "      <td>9993041</td>\n",
              "    </tr>\n",
              "    <tr>\n",
              "      <th>Drafter</th>\n",
              "      <td>4.654805e+06</td>\n",
              "      <td>14936</td>\n",
              "      <td>9999180</td>\n",
              "    </tr>\n",
              "    <tr>\n",
              "      <th>Flight_attendant</th>\n",
              "      <td>4.592177e+06</td>\n",
              "      <td>11695</td>\n",
              "      <td>9979070</td>\n",
              "    </tr>\n",
              "    <tr>\n",
              "      <th>Police_officer</th>\n",
              "      <td>4.502916e+06</td>\n",
              "      <td>13220</td>\n",
              "      <td>9999938</td>\n",
              "    </tr>\n",
              "  </tbody>\n",
              "</table>\n",
              "</div>"
            ],
            "text/plain": [
              "                                    mean    min      max\n",
              "Profession                                              \n",
              "Petroleum_Engineer          5.443310e+06  22921  9968353\n",
              "Psychologist                5.357795e+06  33224  9985964\n",
              "Designer                    5.336802e+06  12841  9996946\n",
              "Scientist                   5.282710e+06  13792  9975985\n",
              "Surgeon                     5.235359e+06  18215  9995445\n",
              "Comedian                    5.199539e+06  13429  9984983\n",
              "Chemical_engineer           5.189805e+06  26926  9984718\n",
              "Mechanical_engineer         5.175032e+06  37057  9990505\n",
              "Artist                      5.164765e+06  31297  9976619\n",
              "Financial_Analyst           5.145753e+06  17660  9990776\n",
              "Consultant                  5.138436e+06  25161  9967854\n",
              "Lawyer                      5.128131e+06  28993  9976302\n",
              "Computer_operator           5.112550e+06  28070  9993961\n",
              "Surveyor                    5.112352e+06  11114  9994518\n",
              "Secretary                   5.102880e+06  72334  9998070\n",
              "Army_officer                5.094473e+06  12902  9967074\n",
              "Aviator                     5.074104e+06  53134  9998280\n",
              "Fashion_Designer            5.070883e+06  12766  9990182\n",
              "Industrial_Engineer         5.060502e+06  19236  9988210\n",
              "Firefighter                 5.046134e+06  29380  9980725\n",
              "Microbiologist              5.035358e+06  12825  9962662\n",
              "Statistician                5.028648e+06  31705  9996861\n",
              "Librarian                   5.007590e+06  25331  9999400\n",
              "Architect                   5.004079e+06  11854  9984145\n",
              "Chartered_Accountant        5.002232e+06  15613  9993403\n",
              "Hotel_Manager               4.996878e+06  17801  9992692\n",
              "Computer_hardware_engineer  4.989531e+06  13357  9996192\n",
              "Technology_specialist       4.985643e+06  17496  9984686\n",
              "Biomedical_Engineer         4.982528e+06  19472  9994932\n",
              "Technician                  4.971492e+06  16045  9982680\n",
              "Air_traffic_controller      4.958422e+06  14339  9979373\n",
              "Dentist                     4.948819e+06  26499  9989145\n",
              "Civil_servant               4.947843e+06  11430  9983131\n",
              "Technical_writer            4.922266e+06  11799  9980565\n",
              "Economist                   4.916002e+06  16890  9994882\n",
              "Politician                  4.913568e+06  16909  9994061\n",
              "Graphic_Designer            4.900447e+06  10675  9973420\n",
              "Analyst                     4.894181e+06  11550  9993798\n",
              "Web_designer                4.893095e+06  21799  9980350\n",
              "Software_Developer          4.891296e+06  51528  9964816\n",
              "Geologist                   4.879362e+06  34955  9991298\n",
              "Design_Engineer             4.840221e+06  44761  9962923\n",
              "Chef                        4.839915e+06  11735  9977117\n",
              "Engineer                    4.814755e+06  10310  9993649\n",
              "Physician                   4.780384e+06  12608  9987805\n",
              "Magistrate                  4.769920e+06  16212  9982430\n",
              "Civil_engineer              4.755441e+06  25674  9992141\n",
              "Official                    4.737617e+06  13629  9993041\n",
              "Drafter                     4.654805e+06  14936  9999180\n",
              "Flight_attendant            4.592177e+06  11695  9979070\n",
              "Police_officer              4.502916e+06  13220  9999938"
            ]
          },
          "metadata": {},
          "execution_count": 123
        }
      ]
    },
    {
      "cell_type": "code",
      "metadata": {
        "colab": {
          "base_uri": "https://localhost:8080/"
        },
        "id": "_a7hkrbN6usp",
        "outputId": "4b019428-dcfe-4f4e-860c-9d83b915d071"
      },
      "source": [
        "Due = Clue.index.values\n",
        "Due"
      ],
      "execution_count": 124,
      "outputs": [
        {
          "output_type": "execute_result",
          "data": {
            "text/plain": [
              "array(['Petroleum_Engineer', 'Psychologist', 'Designer', 'Scientist',\n",
              "       'Surgeon', 'Comedian', 'Chemical_engineer', 'Mechanical_engineer',\n",
              "       'Artist', 'Financial_Analyst', 'Consultant', 'Lawyer',\n",
              "       'Computer_operator', 'Surveyor', 'Secretary', 'Army_officer',\n",
              "       'Aviator', 'Fashion_Designer', 'Industrial_Engineer',\n",
              "       'Firefighter', 'Microbiologist', 'Statistician', 'Librarian',\n",
              "       'Architect', 'Chartered_Accountant', 'Hotel_Manager',\n",
              "       'Computer_hardware_engineer', 'Technology_specialist',\n",
              "       'Biomedical_Engineer', 'Technician', 'Air_traffic_controller',\n",
              "       'Dentist', 'Civil_servant', 'Technical_writer', 'Economist',\n",
              "       'Politician', 'Graphic_Designer', 'Analyst', 'Web_designer',\n",
              "       'Software_Developer', 'Geologist', 'Design_Engineer', 'Chef',\n",
              "       'Engineer', 'Physician', 'Magistrate', 'Civil_engineer',\n",
              "       'Official', 'Drafter', 'Flight_attendant', 'Police_officer'],\n",
              "      dtype=object)"
            ]
          },
          "metadata": {},
          "execution_count": 124
        }
      ]
    },
    {
      "cell_type": "code",
      "metadata": {
        "colab": {
          "base_uri": "https://localhost:8080/",
          "height": 518
        },
        "id": "AH51bpdehShJ",
        "outputId": "f2060000-d0d2-4392-aba2-fc812ef83c3d"
      },
      "source": [
        "fig, ax = plt.subplots(figsize=(20, 10))  # a figure with a single Axes\n",
        "sns.barplot(x='Income', y='Profession', data=mlmodel, order=Due)\n",
        "ax.set_title('PLOT', fontsize=20)\n",
        "ax.set_xlabel('Profession', fontsize=20)\n",
        "ax.set_ylabel('Income', fontsize=20)\n",
        "plt.show()"
      ],
      "execution_count": 125,
      "outputs": [
        {
          "output_type": "display_data",
          "data": {
            "image/png": "[encoded data removed]",
            "text/plain": [
              "<Figure size 1440x720 with 1 Axes>"
            ]
          },
          "metadata": {
            "needs_background": "light"
          }
        }
      ]
    },
    {
      "cell_type": "code",
      "metadata": {
        "id": "yetRARZ-7ghD",
        "colab": {
          "base_uri": "https://localhost:8080/",
          "height": 423
        },
        "outputId": "155de6d1-3b55-4414-9902-fd05fc93c97a"
      },
      "source": [
        "'''Make more plots from your inituition using any plotting library,\n",
        " it can be univariant (single variable/column) or multivariant (multiple variables/columns)'''\n",
        "mlmodel['Profession'].value_counts().head(10).plot.bar()"
      ],
      "execution_count": 129,
      "outputs": [
        {
          "output_type": "execute_result",
          "data": {
            "text/plain": [
              "<matplotlib.axes._subplots.AxesSubplot at 0x7f45fca0dd50>"
            ]
          },
          "metadata": {},
          "execution_count": 129
        },
        {
          "output_type": "display_data",
          "data": {
            "image/png": "[encoded data removed]",
            "text/plain": [
              "<Figure size 432x288 with 1 Axes>"
            ]
          },
          "metadata": {
            "needs_background": "light"
          }
        }
      ]
    },
    {
      "cell_type": "markdown",
      "metadata": {
        "id": "tULdOYwL7NoK"
      },
      "source": [
        "##Preprocessing"
      ]
    },
    {
      "cell_type": "code",
      "metadata": {
        "id": "LBTbgpTAmQ3h"
      },
      "source": [
        "#make a copy of the DataFrame to leave the main data unaffected\n",
        "df = data.copy()"
      ],
      "execution_count": null,
      "outputs": []
    },
    {
      "cell_type": "code",
      "metadata": {
        "colab": {
          "base_uri": "https://localhost:8080/",
          "height": 224
        },
        "id": "6ObvZKEumQ6a",
        "outputId": "6b970fb3-761f-4f03-974e-4a9188f5aac8"
      },
      "source": [
        "'''Drop the following columns: Id, CITY'''\n"
      ],
      "execution_count": null,
      "outputs": [
        {
          "output_type": "execute_result",
          "data": {
            "text/html": [
              "<div>\n",
              "<style scoped>\n",
              "    .dataframe tbody tr th:only-of-type {\n",
              "        vertical-align: middle;\n",
              "    }\n",
              "\n",
              "    .dataframe tbody tr th {\n",
              "        vertical-align: top;\n",
              "    }\n",
              "\n",
              "    .dataframe thead th {\n",
              "        text-align: right;\n",
              "    }\n",
              "</style>\n",
              "<table border=\"1\" class=\"dataframe\">\n",
              "  <thead>\n",
              "    <tr style=\"text-align: right;\">\n",
              "      <th></th>\n",
              "      <th>Income</th>\n",
              "      <th>Age</th>\n",
              "      <th>Experience</th>\n",
              "      <th>Married/Single</th>\n",
              "      <th>House_Ownership</th>\n",
              "      <th>Car_Ownership</th>\n",
              "      <th>Profession</th>\n",
              "      <th>STATE</th>\n",
              "      <th>CURRENT_JOB_YRS</th>\n",
              "      <th>CURRENT_HOUSE_YRS</th>\n",
              "      <th>Risk_Flag</th>\n",
              "    </tr>\n",
              "  </thead>\n",
              "  <tbody>\n",
              "    <tr>\n",
              "      <th>0</th>\n",
              "      <td>1303834</td>\n",
              "      <td>23</td>\n",
              "      <td>3</td>\n",
              "      <td>single</td>\n",
              "      <td>rented</td>\n",
              "      <td>no</td>\n",
              "      <td>Mechanical_engineer</td>\n",
              "      <td>Madhya_Pradesh</td>\n",
              "      <td>3</td>\n",
              "      <td>13</td>\n",
              "      <td>0</td>\n",
              "    </tr>\n",
              "    <tr>\n",
              "      <th>1</th>\n",
              "      <td>7574516</td>\n",
              "      <td>40</td>\n",
              "      <td>10</td>\n",
              "      <td>single</td>\n",
              "      <td>rented</td>\n",
              "      <td>no</td>\n",
              "      <td>Software_Developer</td>\n",
              "      <td>Maharashtra</td>\n",
              "      <td>9</td>\n",
              "      <td>13</td>\n",
              "      <td>0</td>\n",
              "    </tr>\n",
              "    <tr>\n",
              "      <th>2</th>\n",
              "      <td>3991815</td>\n",
              "      <td>66</td>\n",
              "      <td>4</td>\n",
              "      <td>married</td>\n",
              "      <td>rented</td>\n",
              "      <td>no</td>\n",
              "      <td>Technical_writer</td>\n",
              "      <td>Kerala</td>\n",
              "      <td>4</td>\n",
              "      <td>10</td>\n",
              "      <td>0</td>\n",
              "    </tr>\n",
              "    <tr>\n",
              "      <th>3</th>\n",
              "      <td>6256451</td>\n",
              "      <td>41</td>\n",
              "      <td>2</td>\n",
              "      <td>single</td>\n",
              "      <td>rented</td>\n",
              "      <td>yes</td>\n",
              "      <td>Software_Developer</td>\n",
              "      <td>Odisha</td>\n",
              "      <td>2</td>\n",
              "      <td>12</td>\n",
              "      <td>1</td>\n",
              "    </tr>\n",
              "    <tr>\n",
              "      <th>4</th>\n",
              "      <td>5768871</td>\n",
              "      <td>47</td>\n",
              "      <td>11</td>\n",
              "      <td>single</td>\n",
              "      <td>rented</td>\n",
              "      <td>no</td>\n",
              "      <td>Civil_servant</td>\n",
              "      <td>Tamil_Nadu</td>\n",
              "      <td>3</td>\n",
              "      <td>14</td>\n",
              "      <td>1</td>\n",
              "    </tr>\n",
              "  </tbody>\n",
              "</table>\n",
              "</div>"
            ],
            "text/plain": [
              "    Income  Age  Experience  ... CURRENT_JOB_YRS CURRENT_HOUSE_YRS Risk_Flag\n",
              "0  1303834   23           3  ...               3                13         0\n",
              "1  7574516   40          10  ...               9                13         0\n",
              "2  3991815   66           4  ...               4                10         0\n",
              "3  6256451   41           2  ...               2                12         1\n",
              "4  5768871   47          11  ...               3                14         1\n",
              "\n",
              "[5 rows x 11 columns]"
            ]
          },
          "metadata": {},
          "execution_count": 14
        }
      ]
    },
    {
      "cell_type": "code",
      "metadata": {
        "id": "3ZTGEFM6mQ9E"
      },
      "source": [
        "'''Apply Label Enconding to Married/Single, House_Ownership, Car_Ownership, Profession and STATE columns. \n",
        "We need to do this so sklearn models can understand the data.'''\n",
        "#Import LabelEncoder from the sklearn library\n"
      ],
      "execution_count": null,
      "outputs": []
    },
    {
      "cell_type": "code",
      "metadata": {
        "id": "vVMh5ImVmQ_t"
      },
      "source": [
        "Mar_LE = LabelEncoder()\n",
        "Hou_LE = LabelEncoder()\n",
        "Car_LE = LabelEncoder()\n",
        "Pro_LE = LabelEncoder()\n",
        "Sta_LE = LabelEncoder()\n"
      ],
      "execution_count": null,
      "outputs": []
    },
    {
      "cell_type": "code",
      "metadata": {
        "colab": {
          "base_uri": "https://localhost:8080/",
          "height": 224
        },
        "id": "p1N0b4YEmRCP",
        "outputId": "02a42d53-5aa3-4445-e9c6-e259ead7abd9"
      },
      "source": [
        "'''Using the fit_transform method, fit and transform your categorical columns'''\n",
        "\n",
        "df.head()"
      ],
      "execution_count": null,
      "outputs": [
        {
          "output_type": "execute_result",
          "data": {
            "text/html": [
              "<div>\n",
              "<style scoped>\n",
              "    .dataframe tbody tr th:only-of-type {\n",
              "        vertical-align: middle;\n",
              "    }\n",
              "\n",
              "    .dataframe tbody tr th {\n",
              "        vertical-align: top;\n",
              "    }\n",
              "\n",
              "    .dataframe thead th {\n",
              "        text-align: right;\n",
              "    }\n",
              "</style>\n",
              "<table border=\"1\" class=\"dataframe\">\n",
              "  <thead>\n",
              "    <tr style=\"text-align: right;\">\n",
              "      <th></th>\n",
              "      <th>Income</th>\n",
              "      <th>Age</th>\n",
              "      <th>Experience</th>\n",
              "      <th>Married/Single</th>\n",
              "      <th>House_Ownership</th>\n",
              "      <th>Car_Ownership</th>\n",
              "      <th>Profession</th>\n",
              "      <th>STATE</th>\n",
              "      <th>CURRENT_JOB_YRS</th>\n",
              "      <th>CURRENT_HOUSE_YRS</th>\n",
              "      <th>Risk_Flag</th>\n",
              "    </tr>\n",
              "  </thead>\n",
              "  <tbody>\n",
              "    <tr>\n",
              "      <th>0</th>\n",
              "      <td>1303834</td>\n",
              "      <td>23</td>\n",
              "      <td>3</td>\n",
              "      <td>1</td>\n",
              "      <td>2</td>\n",
              "      <td>0</td>\n",
              "      <td>33</td>\n",
              "      <td>13</td>\n",
              "      <td>3</td>\n",
              "      <td>13</td>\n",
              "      <td>0</td>\n",
              "    </tr>\n",
              "    <tr>\n",
              "      <th>1</th>\n",
              "      <td>7574516</td>\n",
              "      <td>40</td>\n",
              "      <td>10</td>\n",
              "      <td>1</td>\n",
              "      <td>2</td>\n",
              "      <td>0</td>\n",
              "      <td>43</td>\n",
              "      <td>14</td>\n",
              "      <td>9</td>\n",
              "      <td>13</td>\n",
              "      <td>0</td>\n",
              "    </tr>\n",
              "    <tr>\n",
              "      <th>2</th>\n",
              "      <td>3991815</td>\n",
              "      <td>66</td>\n",
              "      <td>4</td>\n",
              "      <td>0</td>\n",
              "      <td>2</td>\n",
              "      <td>0</td>\n",
              "      <td>47</td>\n",
              "      <td>12</td>\n",
              "      <td>4</td>\n",
              "      <td>10</td>\n",
              "      <td>0</td>\n",
              "    </tr>\n",
              "    <tr>\n",
              "      <th>3</th>\n",
              "      <td>6256451</td>\n",
              "      <td>41</td>\n",
              "      <td>2</td>\n",
              "      <td>1</td>\n",
              "      <td>2</td>\n",
              "      <td>1</td>\n",
              "      <td>43</td>\n",
              "      <td>17</td>\n",
              "      <td>2</td>\n",
              "      <td>12</td>\n",
              "      <td>1</td>\n",
              "    </tr>\n",
              "    <tr>\n",
              "      <th>4</th>\n",
              "      <td>5768871</td>\n",
              "      <td>47</td>\n",
              "      <td>11</td>\n",
              "      <td>1</td>\n",
              "      <td>2</td>\n",
              "      <td>0</td>\n",
              "      <td>11</td>\n",
              "      <td>22</td>\n",
              "      <td>3</td>\n",
              "      <td>14</td>\n",
              "      <td>1</td>\n",
              "    </tr>\n",
              "  </tbody>\n",
              "</table>\n",
              "</div>"
            ],
            "text/plain": [
              "    Income  Age  Experience  ...  CURRENT_JOB_YRS  CURRENT_HOUSE_YRS  Risk_Flag\n",
              "0  1303834   23           3  ...                3                 13          0\n",
              "1  7574516   40          10  ...                9                 13          0\n",
              "2  3991815   66           4  ...                4                 10          0\n",
              "3  6256451   41           2  ...                2                 12          1\n",
              "4  5768871   47          11  ...                3                 14          1\n",
              "\n",
              "[5 rows x 11 columns]"
            ]
          },
          "metadata": {},
          "execution_count": 23
        }
      ]
    },
    {
      "cell_type": "code",
      "metadata": {
        "id": "LbgVko0Mzg7b"
      },
      "source": [
        "X = df.drop('Risk_Flag',axis=1)\n",
        "y = df['Risk_Flag']"
      ],
      "execution_count": null,
      "outputs": []
    },
    {
      "cell_type": "code",
      "metadata": {
        "id": "XZEWXEGKxNCM"
      },
      "source": [
        "'''Split the dataset into training and test set'''\n",
        "#Import the train test split from the sklearn library\n"
      ],
      "execution_count": null,
      "outputs": []
    },
    {
      "cell_type": "code",
      "metadata": {
        "id": "YRCmIDYmzZKO"
      },
      "source": [
        "'''Reproduce the code for splitting the data'''\n",
        "#Split your dataset into training and testing"
      ],
      "execution_count": null,
      "outputs": []
    },
    {
      "cell_type": "markdown",
      "metadata": {
        "id": "NBdLDSzfCjns"
      },
      "source": [
        "### Decision Trees\n",
        "\n",
        "We'll start just by training a single decision tree."
      ]
    },
    {
      "cell_type": "code",
      "metadata": {
        "collapsed": true,
        "id": "3TCIjfeNCjnt"
      },
      "source": [
        "from sklearn.tree import DecisionTreeClassifier"
      ],
      "execution_count": null,
      "outputs": []
    },
    {
      "cell_type": "markdown",
      "metadata": {
        "id": "iQG8EGbe1QJO"
      },
      "source": [
        "**Create an instance of DecisionTreeClassifier() called dtree and fit it to the training data.**"
      ]
    },
    {
      "cell_type": "code",
      "metadata": {
        "id": "DBFqKQ4zBwQq"
      },
      "source": [
        ""
      ],
      "execution_count": null,
      "outputs": []
    },
    {
      "cell_type": "code",
      "metadata": {
        "colab": {
          "base_uri": "https://localhost:8080/"
        },
        "id": "XmVgsMJOCjnt",
        "outputId": "da109eed-5c3b-4880-bdfe-53553074c8a4"
      },
      "source": [
        ""
      ],
      "execution_count": null,
      "outputs": [
        {
          "output_type": "execute_result",
          "data": {
            "text/plain": [
              "DecisionTreeClassifier(ccp_alpha=0.0, class_weight=None, criterion='gini',\n",
              "                       max_depth=None, max_features=None, max_leaf_nodes=None,\n",
              "                       min_impurity_decrease=0.0, min_impurity_split=None,\n",
              "                       min_samples_leaf=1, min_samples_split=2,\n",
              "                       min_weight_fraction_leaf=0.0, presort='deprecated',\n",
              "                       random_state=None, splitter='best')"
            ]
          },
          "metadata": {},
          "execution_count": 29
        }
      ]
    },
    {
      "cell_type": "markdown",
      "metadata": {
        "id": "n3ebdkD11QJQ"
      },
      "source": [
        "## Predictions and Evaluation of Decision Tree\n",
        "**Create predictions from the test set and create a classification report and a confusion matrix.**"
      ]
    },
    {
      "cell_type": "code",
      "metadata": {
        "collapsed": true,
        "id": "LPLKjtS-Cjnu"
      },
      "source": [
        ""
      ],
      "execution_count": null,
      "outputs": []
    },
    {
      "cell_type": "code",
      "metadata": {
        "collapsed": true,
        "id": "eApEMRQQCjnu"
      },
      "source": [
        ""
      ],
      "execution_count": null,
      "outputs": []
    },
    {
      "cell_type": "code",
      "metadata": {
        "colab": {
          "base_uri": "https://localhost:8080/"
        },
        "id": "Qz0NAhoF2VcR",
        "outputId": "dece7c1e-8206-48a8-afce-901ef7baaab8"
      },
      "source": [
        ""
      ],
      "execution_count": null,
      "outputs": [
        {
          "output_type": "stream",
          "name": "stdout",
          "text": [
            "              precision    recall  f1-score   support\n",
            "\n",
            "           0       0.94      0.92      0.93     66361\n",
            "           1       0.51      0.57      0.54      9239\n",
            "\n",
            "    accuracy                           0.88     75600\n",
            "   macro avg       0.73      0.75      0.74     75600\n",
            "weighted avg       0.89      0.88      0.88     75600\n",
            "\n"
          ]
        }
      ]
    },
    {
      "cell_type": "code",
      "metadata": {
        "colab": {
          "base_uri": "https://localhost:8080/"
        },
        "id": "zuHL0SM5Cjnv",
        "outputId": "a4252166-18c7-4304-aa07-53c52849b856"
      },
      "source": [
        ""
      ],
      "execution_count": null,
      "outputs": [
        {
          "output_type": "stream",
          "name": "stdout",
          "text": [
            "[[61298  5063]\n",
            " [ 3952  5287]]\n"
          ]
        }
      ]
    },
    {
      "cell_type": "markdown",
      "metadata": {
        "id": "txeuXfSwCjnv"
      },
      "source": [
        "## Tree Visualization\n",
        "\n",
        "Scikit learn actually has some built-in visualization capabilities for decision trees, you won't use this often and it requires you to install the pydot library, but here is an example of what it looks like and the code to execute this:"
      ]
    },
    {
      "cell_type": "code",
      "metadata": {
        "colab": {
          "base_uri": "https://localhost:8080/"
        },
        "id": "nrVKVrXnCjnv",
        "outputId": "123881ea-4139-40fc-9781-85eb10006a39"
      },
      "source": [
        "from IPython.display import Image  \n",
        "from sklearn.externals.six import StringIO  \n",
        "from sklearn.tree import export_graphviz\n",
        "import pydot \n",
        "\n",
        "features = list(df.columns[1:])\n",
        "features"
      ],
      "execution_count": null,
      "outputs": [
        {
          "output_type": "stream",
          "name": "stderr",
          "text": [
            "/usr/local/lib/python3.7/dist-packages/sklearn/externals/six.py:31: FutureWarning: The module is deprecated in version 0.21 and will be removed in version 0.23 since we've dropped support for Python 2.7. Please rely on the official version of six (https://pypi.org/project/six/).\n",
            "  \"(https://pypi.org/project/six/).\", FutureWarning)\n"
          ]
        },
        {
          "output_type": "execute_result",
          "data": {
            "text/plain": [
              "['Age',\n",
              " 'Experience',\n",
              " 'Married/Single',\n",
              " 'House_Ownership',\n",
              " 'Car_Ownership',\n",
              " 'Profession',\n",
              " 'STATE',\n",
              " 'CURRENT_JOB_YRS',\n",
              " 'CURRENT_HOUSE_YRS',\n",
              " 'Risk_Flag']"
            ]
          },
          "metadata": {},
          "execution_count": 34
        }
      ]
    },
    {
      "cell_type": "code",
      "metadata": {
        "id": "4KIMHH1_Cjnw"
      },
      "source": [
        "dot_data = StringIO()  \n",
        "export_graphviz(dtree, out_file=dot_data,feature_names=features,filled=True,rounded=True)\n",
        "\n",
        "graph = pydot.graph_from_dot_data(dot_data.getvalue())  \n",
        "Image(graph[0].create_png())  "
      ],
      "execution_count": null,
      "outputs": []
    },
    {
      "cell_type": "markdown",
      "metadata": {
        "id": "c9THuoIt1QJR"
      },
      "source": [
        "## Training the Random Forest model\n",
        "\n",
        "Now its time to train our model!\n",
        "\n",
        "**Create an instance of the RandomForestClassifier class and fit it to our training data from the previous step.**"
      ]
    },
    {
      "cell_type": "code",
      "metadata": {
        "id": "G5qiTaYTCR4n"
      },
      "source": [
        "from sklearn.ensemble import RandomForestClassifier\n"
      ],
      "execution_count": null,
      "outputs": []
    },
    {
      "cell_type": "code",
      "metadata": {
        "id": "2ZNcVgd6CXLJ"
      },
      "source": [
        ""
      ],
      "execution_count": null,
      "outputs": []
    },
    {
      "cell_type": "code",
      "metadata": {
        "colab": {
          "base_uri": "https://localhost:8080/"
        },
        "id": "z-SArL9LCjnw",
        "outputId": "0237bbce-2b31-40af-be65-207c4148b251"
      },
      "source": [
        ""
      ],
      "execution_count": null,
      "outputs": [
        {
          "output_type": "execute_result",
          "data": {
            "text/plain": [
              "RandomForestClassifier(bootstrap=True, ccp_alpha=0.0, class_weight=None,\n",
              "                       criterion='gini', max_depth=None, max_features='auto',\n",
              "                       max_leaf_nodes=None, max_samples=None,\n",
              "                       min_impurity_decrease=0.0, min_impurity_split=None,\n",
              "                       min_samples_leaf=1, min_samples_split=2,\n",
              "                       min_weight_fraction_leaf=0.0, n_estimators=100,\n",
              "                       n_jobs=None, oob_score=False, random_state=None,\n",
              "                       verbose=0, warm_start=False)"
            ]
          },
          "metadata": {},
          "execution_count": 36
        }
      ]
    },
    {
      "cell_type": "markdown",
      "metadata": {
        "id": "5Og5qUh51QJS"
      },
      "source": [
        "## Predictions and Evaluation\n",
        "\n",
        "Let's predict off the y_test values and evaluate our model.\n",
        "\n"
      ]
    },
    {
      "cell_type": "code",
      "metadata": {
        "id": "04ARneuFCjnx"
      },
      "source": [
        ""
      ],
      "execution_count": null,
      "outputs": []
    },
    {
      "cell_type": "markdown",
      "metadata": {
        "id": "T8laxhup1QJS"
      },
      "source": [
        "**Now create a classification report from the results. Do you get anything strange or some sort of warning?**"
      ]
    },
    {
      "cell_type": "code",
      "metadata": {
        "colab": {
          "base_uri": "https://localhost:8080/"
        },
        "id": "KVjkIPQK2-P4",
        "outputId": "3da04e19-2791-4bce-83fe-9acd9b160b34"
      },
      "source": [
        ""
      ],
      "execution_count": null,
      "outputs": [
        {
          "output_type": "stream",
          "name": "stdout",
          "text": [
            "              precision    recall  f1-score   support\n",
            "\n",
            "           0       0.94      0.95      0.94     66361\n",
            "           1       0.59      0.54      0.57      9239\n",
            "\n",
            "    accuracy                           0.90     75600\n",
            "   macro avg       0.77      0.75      0.76     75600\n",
            "weighted avg       0.90      0.90      0.90     75600\n",
            "\n"
          ]
        }
      ]
    },
    {
      "cell_type": "markdown",
      "metadata": {
        "id": "mxwPL7691QJT"
      },
      "source": [
        "**Show the Confusion Matrix for the predictions.**"
      ]
    },
    {
      "cell_type": "code",
      "metadata": {
        "colab": {
          "base_uri": "https://localhost:8080/"
        },
        "id": "puNoHCuzCjnx",
        "outputId": "7eb8f8d5-904a-4c3d-e96a-b6e0b012cac4"
      },
      "source": [
        ""
      ],
      "execution_count": null,
      "outputs": [
        {
          "output_type": "stream",
          "name": "stdout",
          "text": [
            "[[62919  3442]\n",
            " [ 4208  5031]]\n"
          ]
        }
      ]
    },
    {
      "cell_type": "markdown",
      "metadata": {
        "collapsed": true,
        "id": "pQN9rkMU1QJU"
      },
      "source": [
        "**What performed better the random forest or the decision tree?**"
      ]
    },
    {
      "cell_type": "code",
      "metadata": {
        "collapsed": true,
        "id": "1CqVdcfj1QJZ"
      },
      "source": [
        ""
      ],
      "execution_count": null,
      "outputs": []
    },
    {
      "cell_type": "markdown",
      "metadata": {
        "id": "V4wBxaz71QJZ"
      },
      "source": [
        "# Great Job!"
      ]
    }
  ]
}