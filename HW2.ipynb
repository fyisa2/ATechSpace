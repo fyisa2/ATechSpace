{
  "nbformat": 4,
  "nbformat_minor": 0,
  "metadata": {
    "colab": {
      "name": "HW2.ipynb",
      "provenance": [],
      "mount_file_id": "1wEwLloGfO3_PkrldcQ6UGZ3I7h9_TQ5M",
      "authorship_tag": "ABX9TyM84uTTQ5bAoPuxlDVYARsJ",
      "include_colab_link": true
    },
    "kernelspec": {
      "name": "python3",
      "display_name": "Python 3"
    },
    "language_info": {
      "name": "python"
    }
  },
  "cells": [
    {
      "cell_type": "markdown",
      "metadata": {
        "id": "view-in-github",
        "colab_type": "text"
      },
      "source": [
        "<a href=\"https://colab.research.google.com/github/fyisa2/ATechSpace/blob/main/HW2.ipynb\" target=\"_parent\"><img src=\"https://colab.research.google.com/assets/colab-badge.svg\" alt=\"Open In Colab\"/></a>"
      ]
    },
    {
      "cell_type": "code",
      "metadata": {
        "id": "KFcvvVNwNG8K"
      },
      "source": [
        "import numpy as np\n",
        "import pandas as pd"
      ],
      "execution_count": 2,
      "outputs": []
    },
    {
      "cell_type": "code",
      "metadata": {
        "colab": {
          "base_uri": "https://localhost:8080/"
        },
        "id": "O8vQawalkGeH",
        "outputId": "c6c367df-031b-42ef-8b50-b7b4563f6ad1"
      },
      "source": [
        "# Load the Drive helper and mount\n",
        "from google.colab import drive\n",
        "\n",
        "# This will prompt for authorization.\n",
        "drive.mount('/content/drive')"
      ],
      "execution_count": 3,
      "outputs": [
        {
          "output_type": "stream",
          "name": "stdout",
          "text": [
            "Mounted at /content/drive\n"
          ]
        }
      ]
    },
    {
      "cell_type": "code",
      "metadata": {
        "id": "jkwcIZp0XFGS"
      },
      "source": [
        "Data1 = pd.read_csv ('/content/drive/My Drive/StudentsPerformance.csv')"
      ],
      "execution_count": 4,
      "outputs": []
    },
    {
      "cell_type": "code",
      "metadata": {
        "colab": {
          "base_uri": "https://localhost:8080/",
          "height": 204
        },
        "id": "tYRXuna0k3t-",
        "outputId": "ba7ae35c-d5ed-4ac5-ed8b-fb489346fa34"
      },
      "source": [
        "#shows the first five sets of data\n",
        "Data1.head()"
      ],
      "execution_count": 5,
      "outputs": [
        {
          "output_type": "execute_result",
          "data": {
            "text/html": [
              "<div>\n",
              "<style scoped>\n",
              "    .dataframe tbody tr th:only-of-type {\n",
              "        vertical-align: middle;\n",
              "    }\n",
              "\n",
              "    .dataframe tbody tr th {\n",
              "        vertical-align: top;\n",
              "    }\n",
              "\n",
              "    .dataframe thead th {\n",
              "        text-align: right;\n",
              "    }\n",
              "</style>\n",
              "<table border=\"1\" class=\"dataframe\">\n",
              "  <thead>\n",
              "    <tr style=\"text-align: right;\">\n",
              "      <th></th>\n",
              "      <th>gender</th>\n",
              "      <th>race/ethnicity</th>\n",
              "      <th>parental level of education</th>\n",
              "      <th>lunch</th>\n",
              "      <th>test preparation course</th>\n",
              "      <th>math score</th>\n",
              "      <th>reading score</th>\n",
              "      <th>writing score</th>\n",
              "    </tr>\n",
              "  </thead>\n",
              "  <tbody>\n",
              "    <tr>\n",
              "      <th>0</th>\n",
              "      <td>female</td>\n",
              "      <td>group B</td>\n",
              "      <td>bachelor's degree</td>\n",
              "      <td>standard</td>\n",
              "      <td>none</td>\n",
              "      <td>72</td>\n",
              "      <td>72</td>\n",
              "      <td>74</td>\n",
              "    </tr>\n",
              "    <tr>\n",
              "      <th>1</th>\n",
              "      <td>female</td>\n",
              "      <td>group C</td>\n",
              "      <td>some college</td>\n",
              "      <td>standard</td>\n",
              "      <td>completed</td>\n",
              "      <td>69</td>\n",
              "      <td>90</td>\n",
              "      <td>88</td>\n",
              "    </tr>\n",
              "    <tr>\n",
              "      <th>2</th>\n",
              "      <td>female</td>\n",
              "      <td>group B</td>\n",
              "      <td>master's degree</td>\n",
              "      <td>standard</td>\n",
              "      <td>none</td>\n",
              "      <td>90</td>\n",
              "      <td>95</td>\n",
              "      <td>93</td>\n",
              "    </tr>\n",
              "    <tr>\n",
              "      <th>3</th>\n",
              "      <td>male</td>\n",
              "      <td>group A</td>\n",
              "      <td>associate's degree</td>\n",
              "      <td>free/reduced</td>\n",
              "      <td>none</td>\n",
              "      <td>47</td>\n",
              "      <td>57</td>\n",
              "      <td>44</td>\n",
              "    </tr>\n",
              "    <tr>\n",
              "      <th>4</th>\n",
              "      <td>male</td>\n",
              "      <td>group C</td>\n",
              "      <td>some college</td>\n",
              "      <td>standard</td>\n",
              "      <td>none</td>\n",
              "      <td>76</td>\n",
              "      <td>78</td>\n",
              "      <td>75</td>\n",
              "    </tr>\n",
              "  </tbody>\n",
              "</table>\n",
              "</div>"
            ],
            "text/plain": [
              "   gender race/ethnicity  ... reading score writing score\n",
              "0  female        group B  ...            72            74\n",
              "1  female        group C  ...            90            88\n",
              "2  female        group B  ...            95            93\n",
              "3    male        group A  ...            57            44\n",
              "4    male        group C  ...            78            75\n",
              "\n",
              "[5 rows x 8 columns]"
            ]
          },
          "metadata": {},
          "execution_count": 5
        }
      ]
    },
    {
      "cell_type": "code",
      "metadata": {
        "colab": {
          "base_uri": "https://localhost:8080/",
          "height": 204
        },
        "id": "-TS_7El02ZH9",
        "outputId": "c29812fa-4eec-4743-c965-1801afeef8fe"
      },
      "source": [
        "#shows the last five sets of data\n",
        "Data1.tail()"
      ],
      "execution_count": 6,
      "outputs": [
        {
          "output_type": "execute_result",
          "data": {
            "text/html": [
              "<div>\n",
              "<style scoped>\n",
              "    .dataframe tbody tr th:only-of-type {\n",
              "        vertical-align: middle;\n",
              "    }\n",
              "\n",
              "    .dataframe tbody tr th {\n",
              "        vertical-align: top;\n",
              "    }\n",
              "\n",
              "    .dataframe thead th {\n",
              "        text-align: right;\n",
              "    }\n",
              "</style>\n",
              "<table border=\"1\" class=\"dataframe\">\n",
              "  <thead>\n",
              "    <tr style=\"text-align: right;\">\n",
              "      <th></th>\n",
              "      <th>gender</th>\n",
              "      <th>race/ethnicity</th>\n",
              "      <th>parental level of education</th>\n",
              "      <th>lunch</th>\n",
              "      <th>test preparation course</th>\n",
              "      <th>math score</th>\n",
              "      <th>reading score</th>\n",
              "      <th>writing score</th>\n",
              "    </tr>\n",
              "  </thead>\n",
              "  <tbody>\n",
              "    <tr>\n",
              "      <th>995</th>\n",
              "      <td>female</td>\n",
              "      <td>group E</td>\n",
              "      <td>master's degree</td>\n",
              "      <td>standard</td>\n",
              "      <td>completed</td>\n",
              "      <td>88</td>\n",
              "      <td>99</td>\n",
              "      <td>95</td>\n",
              "    </tr>\n",
              "    <tr>\n",
              "      <th>996</th>\n",
              "      <td>male</td>\n",
              "      <td>group C</td>\n",
              "      <td>high school</td>\n",
              "      <td>free/reduced</td>\n",
              "      <td>none</td>\n",
              "      <td>62</td>\n",
              "      <td>55</td>\n",
              "      <td>55</td>\n",
              "    </tr>\n",
              "    <tr>\n",
              "      <th>997</th>\n",
              "      <td>female</td>\n",
              "      <td>group C</td>\n",
              "      <td>high school</td>\n",
              "      <td>free/reduced</td>\n",
              "      <td>completed</td>\n",
              "      <td>59</td>\n",
              "      <td>71</td>\n",
              "      <td>65</td>\n",
              "    </tr>\n",
              "    <tr>\n",
              "      <th>998</th>\n",
              "      <td>female</td>\n",
              "      <td>group D</td>\n",
              "      <td>some college</td>\n",
              "      <td>standard</td>\n",
              "      <td>completed</td>\n",
              "      <td>68</td>\n",
              "      <td>78</td>\n",
              "      <td>77</td>\n",
              "    </tr>\n",
              "    <tr>\n",
              "      <th>999</th>\n",
              "      <td>female</td>\n",
              "      <td>group D</td>\n",
              "      <td>some college</td>\n",
              "      <td>free/reduced</td>\n",
              "      <td>none</td>\n",
              "      <td>77</td>\n",
              "      <td>86</td>\n",
              "      <td>86</td>\n",
              "    </tr>\n",
              "  </tbody>\n",
              "</table>\n",
              "</div>"
            ],
            "text/plain": [
              "     gender race/ethnicity  ... reading score writing score\n",
              "995  female        group E  ...            99            95\n",
              "996    male        group C  ...            55            55\n",
              "997  female        group C  ...            71            65\n",
              "998  female        group D  ...            78            77\n",
              "999  female        group D  ...            86            86\n",
              "\n",
              "[5 rows x 8 columns]"
            ]
          },
          "metadata": {},
          "execution_count": 6
        }
      ]
    },
    {
      "cell_type": "code",
      "metadata": {
        "colab": {
          "base_uri": "https://localhost:8080/"
        },
        "id": "YhNEovQ22v-D",
        "outputId": "8180271d-e798-4bee-a5a8-480e02ff4d0b"
      },
      "source": [
        "#shows the size of the dataset (rows, column)\n",
        "Data1.shape"
      ],
      "execution_count": 7,
      "outputs": [
        {
          "output_type": "execute_result",
          "data": {
            "text/plain": [
              "(1000, 8)"
            ]
          },
          "metadata": {},
          "execution_count": 7
        }
      ]
    },
    {
      "cell_type": "code",
      "metadata": {
        "colab": {
          "base_uri": "https://localhost:8080/"
        },
        "id": "zXI3TMl43VIX",
        "outputId": "3b9ee2cd-fd53-47e3-e81a-df555fa3bd5f"
      },
      "source": [
        "#shows every row and column in the dataset\n",
        "Data1.info"
      ],
      "execution_count": 8,
      "outputs": [
        {
          "output_type": "execute_result",
          "data": {
            "text/plain": [
              "<bound method DataFrame.info of      gender race/ethnicity  ... reading score writing score\n",
              "0    female        group B  ...            72            74\n",
              "1    female        group C  ...            90            88\n",
              "2    female        group B  ...            95            93\n",
              "3      male        group A  ...            57            44\n",
              "4      male        group C  ...            78            75\n",
              "..      ...            ...  ...           ...           ...\n",
              "995  female        group E  ...            99            95\n",
              "996    male        group C  ...            55            55\n",
              "997  female        group C  ...            71            65\n",
              "998  female        group D  ...            78            77\n",
              "999  female        group D  ...            86            86\n",
              "\n",
              "[1000 rows x 8 columns]>"
            ]
          },
          "metadata": {},
          "execution_count": 8
        }
      ]
    },
    {
      "cell_type": "code",
      "metadata": {
        "colab": {
          "base_uri": "https://localhost:8080/"
        },
        "id": "aCaPJ9EZ3ndy",
        "outputId": "457f97ee-c9c1-4a25-e5e3-73d79558ca9e"
      },
      "source": [
        "#shows information about the numerical columns in the dataset (not exactly??!!)\n",
        "Data1.describe"
      ],
      "execution_count": 9,
      "outputs": [
        {
          "output_type": "execute_result",
          "data": {
            "text/plain": [
              "<bound method NDFrame.describe of      gender race/ethnicity  ... reading score writing score\n",
              "0    female        group B  ...            72            74\n",
              "1    female        group C  ...            90            88\n",
              "2    female        group B  ...            95            93\n",
              "3      male        group A  ...            57            44\n",
              "4      male        group C  ...            78            75\n",
              "..      ...            ...  ...           ...           ...\n",
              "995  female        group E  ...            99            95\n",
              "996    male        group C  ...            55            55\n",
              "997  female        group C  ...            71            65\n",
              "998  female        group D  ...            78            77\n",
              "999  female        group D  ...            86            86\n",
              "\n",
              "[1000 rows x 8 columns]>"
            ]
          },
          "metadata": {},
          "execution_count": 9
        }
      ]
    },
    {
      "cell_type": "code",
      "metadata": {
        "colab": {
          "base_uri": "https://localhost:8080/",
          "height": 142
        },
        "id": "iVndy0oRBvoJ",
        "outputId": "a0556b57-dcd7-4d5a-b6bd-434cbdf7c431"
      },
      "source": [
        "Data1 = pd.read_csv ('/content/drive/My Drive/StudentsPerformance.csv')\n",
        "Data1.head(3)"
      ],
      "execution_count": 38,
      "outputs": [
        {
          "output_type": "execute_result",
          "data": {
            "text/html": [
              "<div>\n",
              "<style scoped>\n",
              "    .dataframe tbody tr th:only-of-type {\n",
              "        vertical-align: middle;\n",
              "    }\n",
              "\n",
              "    .dataframe tbody tr th {\n",
              "        vertical-align: top;\n",
              "    }\n",
              "\n",
              "    .dataframe thead th {\n",
              "        text-align: right;\n",
              "    }\n",
              "</style>\n",
              "<table border=\"1\" class=\"dataframe\">\n",
              "  <thead>\n",
              "    <tr style=\"text-align: right;\">\n",
              "      <th></th>\n",
              "      <th>gender</th>\n",
              "      <th>race/ethnicity</th>\n",
              "      <th>parental level of education</th>\n",
              "      <th>lunch</th>\n",
              "      <th>test preparation course</th>\n",
              "      <th>math score</th>\n",
              "      <th>reading score</th>\n",
              "      <th>writing score</th>\n",
              "    </tr>\n",
              "  </thead>\n",
              "  <tbody>\n",
              "    <tr>\n",
              "      <th>0</th>\n",
              "      <td>female</td>\n",
              "      <td>group B</td>\n",
              "      <td>bachelor's degree</td>\n",
              "      <td>standard</td>\n",
              "      <td>none</td>\n",
              "      <td>72</td>\n",
              "      <td>72</td>\n",
              "      <td>74</td>\n",
              "    </tr>\n",
              "    <tr>\n",
              "      <th>1</th>\n",
              "      <td>female</td>\n",
              "      <td>group C</td>\n",
              "      <td>some college</td>\n",
              "      <td>standard</td>\n",
              "      <td>completed</td>\n",
              "      <td>69</td>\n",
              "      <td>90</td>\n",
              "      <td>88</td>\n",
              "    </tr>\n",
              "    <tr>\n",
              "      <th>2</th>\n",
              "      <td>female</td>\n",
              "      <td>group B</td>\n",
              "      <td>master's degree</td>\n",
              "      <td>standard</td>\n",
              "      <td>none</td>\n",
              "      <td>90</td>\n",
              "      <td>95</td>\n",
              "      <td>93</td>\n",
              "    </tr>\n",
              "  </tbody>\n",
              "</table>\n",
              "</div>"
            ],
            "text/plain": [
              "   gender race/ethnicity  ... reading score writing score\n",
              "0  female        group B  ...            72            74\n",
              "1  female        group C  ...            90            88\n",
              "2  female        group B  ...            95            93\n",
              "\n",
              "[3 rows x 8 columns]"
            ]
          },
          "metadata": {},
          "execution_count": 38
        }
      ]
    },
    {
      "cell_type": "code",
      "metadata": {
        "colab": {
          "base_uri": "https://localhost:8080/"
        },
        "id": "dQ2z4-7jE2ng",
        "outputId": "aefa2ebd-5818-4ca0-ffb3-bb492351fe9b"
      },
      "source": [
        "Data1['gender'].value_counts().head(5)"
      ],
      "execution_count": 39,
      "outputs": [
        {
          "output_type": "execute_result",
          "data": {
            "text/plain": [
              "female    518\n",
              "male      482\n",
              "Name: gender, dtype: int64"
            ]
          },
          "metadata": {},
          "execution_count": 39
        }
      ]
    },
    {
      "cell_type": "code",
      "metadata": {
        "colab": {
          "base_uri": "https://localhost:8080/"
        },
        "id": "zLekhOa4Fxgl",
        "outputId": "47b847ef-cf0d-4243-e44d-8c6360d980a4"
      },
      "source": [
        "Data1['gender'].value_counts().head(1)"
      ],
      "execution_count": 40,
      "outputs": [
        {
          "output_type": "execute_result",
          "data": {
            "text/plain": [
              "female    518\n",
              "Name: gender, dtype: int64"
            ]
          },
          "metadata": {},
          "execution_count": 40
        }
      ]
    },
    {
      "cell_type": "code",
      "metadata": {
        "colab": {
          "base_uri": "https://localhost:8080/"
        },
        "id": "TXC7akJ9F5fd",
        "outputId": "234b276a-925b-47b5-88f0-18c2a4135523"
      },
      "source": [
        "Data1['parental level of education'].value_counts().head()"
      ],
      "execution_count": 41,
      "outputs": [
        {
          "output_type": "execute_result",
          "data": {
            "text/plain": [
              "some college          226\n",
              "associate's degree    222\n",
              "high school           196\n",
              "some high school      179\n",
              "bachelor's degree     118\n",
              "Name: parental level of education, dtype: int64"
            ]
          },
          "metadata": {},
          "execution_count": 41
        }
      ]
    },
    {
      "cell_type": "code",
      "metadata": {
        "colab": {
          "base_uri": "https://localhost:8080/",
          "height": 366
        },
        "id": "C-dcJqmyGOHu",
        "outputId": "d2b95138-d012-450f-e252-f1b0a021e1b0"
      },
      "source": [
        "Data1['parental level of education'].value_counts().head().plot.bar()"
      ],
      "execution_count": 42,
      "outputs": [
        {
          "output_type": "execute_result",
          "data": {
            "text/plain": [
              "<matplotlib.axes._subplots.AxesSubplot at 0x7f59e8e29f50>"
            ]
          },
          "metadata": {},
          "execution_count": 42
        },
        {
          "output_type": "display_data",
          "data": {
            "image/png": "[encoded data removed]",
            "text/plain": [
              "<Figure size 432x288 with 1 Axes>"
            ]
          },
          "metadata": {
            "needs_background": "light"
          }
        }
      ]
    },
    {
      "cell_type": "code",
      "metadata": {
        "colab": {
          "base_uri": "https://localhost:8080/"
        },
        "id": "auAO12cxGZL-",
        "outputId": "38ee7f78-e77a-488b-cd61-ddbf2dc81d18"
      },
      "source": [
        "Data1.lunch.nunique()"
      ],
      "execution_count": 43,
      "outputs": [
        {
          "output_type": "execute_result",
          "data": {
            "text/plain": [
              "2"
            ]
          },
          "metadata": {},
          "execution_count": 43
        }
      ]
    },
    {
      "cell_type": "code",
      "metadata": {
        "colab": {
          "base_uri": "https://localhost:8080/"
        },
        "id": "ossNfFSRHuJZ",
        "outputId": "e55b4b9a-85b5-489a-c1cd-10cdd6bde4b8"
      },
      "source": [
        "Data1.gender.nunique()"
      ],
      "execution_count": 44,
      "outputs": [
        {
          "output_type": "execute_result",
          "data": {
            "text/plain": [
              "2"
            ]
          },
          "metadata": {},
          "execution_count": 44
        }
      ]
    },
    {
      "cell_type": "code",
      "metadata": {
        "colab": {
          "base_uri": "https://localhost:8080/"
        },
        "id": "LwR8DxiRIsep",
        "outputId": "742245bf-0609-4ec0-c3f6-9b87a017fdfc"
      },
      "source": [
        "Data1['reading score'].nunique()"
      ],
      "execution_count": 48,
      "outputs": [
        {
          "output_type": "execute_result",
          "data": {
            "text/plain": [
              "72"
            ]
          },
          "metadata": {},
          "execution_count": 48
        }
      ]
    },
    {
      "cell_type": "code",
      "metadata": {
        "colab": {
          "base_uri": "https://localhost:8080/"
        },
        "id": "LYfarvGSXB_M",
        "outputId": "a1021f3c-9794-49ef-e90d-a6abc6580d5a"
      },
      "source": [
        "Data1['reading score'].unique()"
      ],
      "execution_count": 50,
      "outputs": [
        {
          "output_type": "execute_result",
          "data": {
            "text/plain": [
              "array([ 72,  90,  95,  57,  78,  83,  43,  64,  60,  54,  52,  81,  53,\n",
              "        75,  89,  32,  42,  58,  69,  73,  71,  74,  70,  65,  87,  56,\n",
              "        61,  84,  55,  44,  41,  85,  59,  17,  39,  80,  37,  63,  51,\n",
              "        49,  26,  68,  45,  47,  86,  34,  79,  66,  67,  91, 100,  76,\n",
              "        77,  82,  92,  93,  62,  88,  50,  28,  48,  46,  23,  38,  94,\n",
              "        97,  99,  31,  96,  24,  29,  40])"
            ]
          },
          "metadata": {},
          "execution_count": 50
        }
      ]
    },
    {
      "cell_type": "code",
      "metadata": {
        "colab": {
          "base_uri": "https://localhost:8080/"
        },
        "id": "UkYGun93XHt2",
        "outputId": "144fc0d6-b7c9-43a6-d87d-3cf546243bb1"
      },
      "source": [
        "Data1['reading score'].values"
      ],
      "execution_count": 51,
      "outputs": [
        {
          "output_type": "execute_result",
          "data": {
            "text/plain": [
              "array([ 72,  90,  95,  57,  78,  83,  95,  43,  64,  60,  54,  52,  81,\n",
              "        72,  53,  75,  89,  32,  42,  58,  69,  75,  54,  73,  71,  74,\n",
              "        54,  69,  70,  70,  74,  65,  72,  42,  87,  81,  81,  64,  90,\n",
              "        56,  61,  73,  58,  65,  56,  54,  65,  71,  74,  84,  55,  69,\n",
              "        44,  78,  84,  41,  85,  55,  59,  17,  74,  39,  61,  80,  58,\n",
              "        64,  37,  72,  58,  64,  63,  55,  51,  57,  49,  41,  26,  78,\n",
              "        74,  68,  49,  45,  47,  64,  39,  80,  83,  71,  70,  86,  72,\n",
              "        34,  79,  45,  86,  81,  66,  72,  67,  67,  67,  74,  91,  44,\n",
              "        86,  67, 100,  63,  76,  64,  89,  55,  53,  58, 100,  77,  85,\n",
              "        82,  63,  69,  92,  89,  93,  57,  80,  95,  68,  77,  82,  49,\n",
              "        84,  37,  74,  81,  79,  55,  54,  55,  66,  61,  72,  62,  55,\n",
              "        43,  73,  39,  84,  68,  75, 100,  67,  67,  70,  49,  67,  89,\n",
              "        74,  60,  86,  62,  78,  88,  53,  53,  92, 100,  51,  76,  83,\n",
              "        75,  73,  88,  86,  67,  51,  91,  54,  77,  70, 100,  68,  64,\n",
              "        50,  69,  52,  67,  76,  66,  52,  88,  65,  83,  64,  62,  84,\n",
              "        55,  69,  56,  53,  79,  84,  81,  77,  69,  41,  71,  62,  80,\n",
              "        81,  61,  79,  28,  62,  51,  91,  83,  86,  42,  77,  56,  68,\n",
              "        85,  65,  80,  66,  56,  72,  50,  72,  95,  64,  43,  86,  87,\n",
              "        82,  75,  66,  60,  52,  80,  68,  83,  52,  51,  74,  76,  76,\n",
              "        70,  64,  60,  49,  83,  70,  80,  52,  73,  73,  77,  75,  81,\n",
              "        79,  79,  50,  93,  73,  42,  75,  72,  92,  76,  63,  49,  53,\n",
              "        70,  85,  78,  92,  63,  86,  56,  52,  48,  79,  78,  46,  82,\n",
              "        82,  89,  75,  76,  70,  73,  60,  73,  77,  62,  41,  74,  46,\n",
              "        87,  78,  54,  84,  76,  75,  67,  87,  52,  71,  57,  76,  60,\n",
              "        61,  67,  64,  66,  82,  72,  71,  65,  79,  86,  81,  53,  46,\n",
              "        90,  61,  23,  75,  55,  60,  37,  56,  78,  93,  68,  70,  51,\n",
              "        38,  55,  61,  73,  76,  72,  73,  80,  61,  94,  74,  74,  65,\n",
              "        57,  78,  58,  71,  72,  61,  66,  62,  90,  62,  84,  58,  34,\n",
              "        60,  58,  58,  66,  64,  84,  77,  73,  74,  97,  70,  43,  90,\n",
              "        95,  83,  64,  86, 100,  81,  49,  43,  76,  73,  78,  64,  70,\n",
              "        67,  68,  67,  54,  74,  45,  67,  89,  63,  59,  54,  43,  65,\n",
              "        99,  59,  73,  65,  80,  57,  84,  71,  83,  66,  67,  72,  73,\n",
              "        74,  73,  59,  56,  93,  58,  58,  85,  39,  67,  83,  71,  59,\n",
              "        63,  66,  72,  56,  59,  66,  48,  68,  66,  56,  88,  81,  81,\n",
              "        73,  83,  82,  74,  66,  81,  46,  73,  85,  92,  77,  58,  61,\n",
              "        56,  89,  54, 100,  65,  58,  54,  70,  90,  58,  87,  31,  67,\n",
              "        88,  74,  85,  69,  86,  67,  90,  76,  62,  68,  64,  71,  71,\n",
              "        59,  68,  52,  52,  74,  47,  75,  53,  82,  85,  64,  83,  88,\n",
              "        64,  64,  48,  78,  69,  71,  79,  87,  61,  89,  59,  82,  70,\n",
              "        59,  78,  92,  71,  50,  49,  61,  97,  87,  89,  74,  78,  78,\n",
              "        49,  86,  58,  59,  52,  60,  61,  53,  41,  74,  67,  54,  61,\n",
              "        88,  69,  83,  60,  66,  66,  92,  69,  82,  77,  95,  63,  83,\n",
              "       100,  67,  67,  72,  76,  90,  48,  62,  45,  39,  72,  67,  70,\n",
              "        66,  75,  74,  90,  80,  51,  43, 100,  71,  48,  68,  75,  96,\n",
              "        62,  66,  81,  55,  51,  91,  56,  61,  97,  79,  73,  75,  77,\n",
              "        76,  73,  63,  64,  66,  57,  62,  68,  76, 100,  79,  24,  54,\n",
              "        77,  82,  60,  29,  78,  57,  89,  72,  84,  58,  64,  63,  60,\n",
              "        59,  90,  77,  93,  68,  45,  78,  81,  73,  61,  63,  51,  96,\n",
              "        58,  97,  70,  48,  57,  51,  64,  60,  74,  88,  84,  74,  80,\n",
              "        92,  76,  74,  52,  88,  81,  79,  65,  81,  70,  62,  53,  79,\n",
              "        56,  80,  86,  70,  79,  67,  67,  66,  60,  87,  77,  66,  71,\n",
              "        69,  63,  60,  73,  85,  74,  72,  76,  57,  78,  84,  77,  64,\n",
              "        78,  82,  75,  61,  72,  68,  55,  40,  66,  99,  75,  78,  58,\n",
              "        90,  53,  76,  74,  77,  63,  89,  82,  72,  78,  66,  81,  67,\n",
              "        84,  64,  63,  72,  34,  59,  87,  61,  84,  85, 100,  81,  70,\n",
              "        94,  78,  96,  76,  73,  72,  59,  90,  48,  43,  74,  75,  51,\n",
              "        92,  39,  77,  46,  89,  47,  58,  57,  79,  66,  71,  60,  73,\n",
              "        57,  84,  73,  55,  79,  75,  64,  60,  84,  69,  72,  77,  90,\n",
              "        55,  95,  58,  68,  59,  77,  72,  58,  81,  62,  63,  72,  75,\n",
              "        62,  71,  60,  48,  73,  67,  78,  65,  58,  72,  44,  79,  85,\n",
              "        56,  90,  85,  59,  81,  51,  79,  38,  65,  65,  62,  66,  74,\n",
              "        84,  52,  68,  70,  84,  60,  55,  73,  80,  94,  85,  76,  81,\n",
              "        74,  45,  75,  54,  31,  47,  64,  84,  80,  86,  59,  70,  72,\n",
              "        91,  90,  90,  52,  87,  58,  67,  68,  69,  86,  54,  60,  86,\n",
              "        60,  82,  50,  64,  64,  82,  57,  77,  52,  58,  44,  77,  65,\n",
              "        85,  85,  54,  72,  75,  67,  68,  85,  67,  64,  97,  68,  79,\n",
              "        49,  73,  62,  86,  42,  71,  93,  82,  53,  42,  74,  51,  58,\n",
              "        72,  84,  90,  62,  64,  82,  61,  72,  76,  64,  70,  73,  46,\n",
              "        51,  76, 100,  72,  65,  51,  85,  92,  67,  74,  62,  34,  29,\n",
              "        78,  54,  78,  84,  78,  48, 100,  84,  77,  48,  84,  75,  64,\n",
              "        42,  84,  61,  62,  61,  70, 100,  61,  77,  96,  70,  53,  66,\n",
              "        65,  70,  64,  56,  61,  43,  56,  74,  57,  71,  75,  87,  63,\n",
              "        57,  58,  81,  68,  66,  91,  66,  62,  68,  61,  82,  58,  50,\n",
              "        75,  73,  77,  74,  52,  69,  57,  87, 100,  63,  81,  58,  54,\n",
              "       100,  76,  57,  70,  68,  63,  76,  84, 100,  72,  50,  65,  63,\n",
              "        82,  62,  65,  41,  95,  24,  78,  85,  87,  75,  51,  59,  75,\n",
              "        45,  86,  81,  82,  76,  72,  63,  99,  55,  71,  78,  86])"
            ]
          },
          "metadata": {},
          "execution_count": 51
        }
      ]
    },
    {
      "cell_type": "code",
      "metadata": {
        "colab": {
          "base_uri": "https://localhost:8080/"
        },
        "id": "Cpe2pN5CWo6_",
        "outputId": "c9796639-6d3e-48cd-edb9-9126da8c4479"
      },
      "source": [
        "Data1['race/ethnicity'].nunique()"
      ],
      "execution_count": 52,
      "outputs": [
        {
          "output_type": "execute_result",
          "data": {
            "text/plain": [
              "5"
            ]
          },
          "metadata": {},
          "execution_count": 52
        }
      ]
    },
    {
      "cell_type": "code",
      "metadata": {
        "colab": {
          "base_uri": "https://localhost:8080/"
        },
        "id": "5tiXcSp9J2e6",
        "outputId": "571e6717-2d05-4d48-e530-d0173e0aa38f"
      },
      "source": [
        "Data1.gender.unique()"
      ],
      "execution_count": 53,
      "outputs": [
        {
          "output_type": "execute_result",
          "data": {
            "text/plain": [
              "array(['female', 'male'], dtype=object)"
            ]
          },
          "metadata": {},
          "execution_count": 53
        }
      ]
    },
    {
      "cell_type": "code",
      "metadata": {
        "colab": {
          "base_uri": "https://localhost:8080/"
        },
        "id": "8BCa2qFHRhNN",
        "outputId": "d275d1bf-4d27-4e30-f80c-27894a18b239"
      },
      "source": [
        "Data1.lunch.unique()"
      ],
      "execution_count": 54,
      "outputs": [
        {
          "output_type": "execute_result",
          "data": {
            "text/plain": [
              "array(['standard', 'free/reduced'], dtype=object)"
            ]
          },
          "metadata": {},
          "execution_count": 54
        }
      ]
    },
    {
      "cell_type": "code",
      "metadata": {
        "colab": {
          "base_uri": "https://localhost:8080/",
          "height": 282
        },
        "id": "ULoIufM2Rmcm",
        "outputId": "75df3ab5-4f73-4681-c268-418fd326a7e6"
      },
      "source": [
        "Data1['reading score'].value_counts().sort_index().plot.line()"
      ],
      "execution_count": 55,
      "outputs": [
        {
          "output_type": "execute_result",
          "data": {
            "text/plain": [
              "<matplotlib.axes._subplots.AxesSubplot at 0x7f59e87add10>"
            ]
          },
          "metadata": {},
          "execution_count": 55
        },
        {
          "output_type": "display_data",
          "data": {
            "image/png": "[encoded data removed]",
            "text/plain": [
              "<Figure size 432x288 with 1 Axes>"
            ]
          },
          "metadata": {
            "needs_background": "light"
          }
        }
      ]
    },
    {
      "cell_type": "code",
      "metadata": {
        "colab": {
          "base_uri": "https://localhost:8080/",
          "height": 282
        },
        "id": "x0vRkSjQZwIs",
        "outputId": "5a5dcb2b-e3df-4e8d-f359-4b7e2522d0cb"
      },
      "source": [
        "Data1['reading score'].value_counts().sort_index().plot.area()"
      ],
      "execution_count": 56,
      "outputs": [
        {
          "output_type": "execute_result",
          "data": {
            "text/plain": [
              "<matplotlib.axes._subplots.AxesSubplot at 0x7f59e8733e90>"
            ]
          },
          "metadata": {},
          "execution_count": 56
        },
        {
          "output_type": "display_data",
          "data": {
            "image/png": "[encoded data removed]",
            "text/plain": [
              "<Figure size 432x288 with 1 Axes>"
            ]
          },
          "metadata": {
            "needs_background": "light"
          }
        }
      ]
    },
    {
      "cell_type": "code",
      "metadata": {
        "id": "m8cow5tIZygv"
      },
      "source": [
        "import seaborn as sns"
      ],
      "execution_count": 57,
      "outputs": []
    },
    {
      "cell_type": "code",
      "metadata": {
        "id": "GUHhxAgUduJe"
      },
      "source": [
        "df = Data1[Data1['reading score'].isin(Data1['reading score'].value_counts().head(200).index)]\n"
      ],
      "execution_count": 72,
      "outputs": []
    },
    {
      "cell_type": "code",
      "metadata": {
        "colab": {
          "base_uri": "https://localhost:8080/",
          "height": 296
        },
        "id": "N8oU2pZEg5wO",
        "outputId": "ba3aa5d0-8d7a-4349-e929-865396473b3c"
      },
      "source": [
        "sns.boxplot(\n",
        "    y='reading score',\n",
        "    x='race/ethnicity',\n",
        "    data=df\n",
        ")"
      ],
      "execution_count": 73,
      "outputs": [
        {
          "output_type": "execute_result",
          "data": {
            "text/plain": [
              "<matplotlib.axes._subplots.AxesSubplot at 0x7f59d6469210>"
            ]
          },
          "metadata": {},
          "execution_count": 73
        },
        {
          "output_type": "display_data",
          "data": {
            "image/png": "[encoded data removed]",
            "text/plain": [
              "<Figure size 432x288 with 1 Axes>"
            ]
          },
          "metadata": {
            "needs_background": "light"
          }
        }
      ]
    },
    {
      "cell_type": "code",
      "metadata": {
        "colab": {
          "base_uri": "https://localhost:8080/",
          "height": 296
        },
        "id": "Xg09vudFh6hG",
        "outputId": "98da6d04-8025-40ee-cf80-3ec56c05cb21"
      },
      "source": [
        "sns.violinplot(\n",
        "     y='reading score',\n",
        "    x='race/ethnicity',\n",
        "    data=df\n",
        ")"
      ],
      "execution_count": 74,
      "outputs": [
        {
          "output_type": "execute_result",
          "data": {
            "text/plain": [
              "<matplotlib.axes._subplots.AxesSubplot at 0x7f59d63a7450>"
            ]
          },
          "metadata": {},
          "execution_count": 74
        },
        {
          "output_type": "display_data",
          "data": {
            "image/png": "[encoded data removed]",
            "text/plain": [
              "<Figure size 432x288 with 1 Axes>"
            ]
          },
          "metadata": {
            "needs_background": "light"
          }
        }
      ]
    }
  ]
}